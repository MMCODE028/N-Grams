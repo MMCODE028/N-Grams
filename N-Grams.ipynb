{
 "cells": [
  {
   "cell_type": "code",
   "execution_count": 33,
   "id": "9f42206f",
   "metadata": {},
   "outputs": [
    {
     "data": {
      "text/plain": [
       "'<doc id=\"32449\" title=\"Himno de las Américas\" nonfiltered=\"1\" processed=\"1\" dbindex=\"15001\">\\nEl Himno de las Américas es cantado en todas las ceremonias y actos oficiales en conmemoración al Día de las Américas (14 de abril). Letra y música de Rodolfo Sciamarella.\\n\\n Letra .\\n\\nUn canto de amistad, de buena vecindad, ;\\nunidos nos tendrá eternamente. ;\\nPor nuestra libertad, por nuestra lealtad, ;\\ntenemos que vivir gloriosamente.\\n\\nUn símbolo de paz alumbrará el vivir ;\\nde todo el Continente Americano. ;\\nFuerza de Optimismo, fuerza de Hermandad ;\\nserá este canto de buena vecindad.\\n\\nArgentina, Brasil y Bolivia,\\nColombia, Chile y Ecuador;\\nUruguay, Venezuela y Honduras ;\\nGuatemala y El Salvador,\\nCosta Rica, Haití, Nicaragua,\\nCuba y Paraguay, ;\\nNorteamérica, México y Perú,\\nSanto Domingo y Panamá;\\n\\n¡Son hermanos soberanos de la libertad!\\n¡Son hermanos soberanos de la libertad!\\n\\nEn otras versiones se incluyen Cuba y Canadá.\\nSanto Domingo es el nombre colonial de República Dominicana\\n\\n Enlaces exte'"
      ]
     },
     "execution_count": 33,
     "metadata": {},
     "output_type": "execute_result"
    }
   ],
   "source": [
    "# load in all the modules we're going to need\n",
    "import nltk, re, string, collections\n",
    "from nltk.util import ngrams # function for making ngrams\n",
    "\n",
    "# this corpus is pretty big, so let's look at just one of the files in it\n",
    "with open(\"./archive/spanish_corpus/spanishText_15000_20000\", \"r\", encoding='latin-1') as file:\n",
    "    text = file.read()\n",
    "\n",
    "# check to make sure the file read in alright; let's print out the first 1000 characters\n",
    "text[0:1000]"
   ]
  },
  {
   "cell_type": "code",
   "execution_count": 34,
   "id": "3b22381d",
   "metadata": {},
   "outputs": [
    {
     "data": {
      "text/plain": [
       "'\\nEl Himno de las Américas es cantado en todas las ceremonias y actos oficiales en conmemoración al Día de las Américas 14 de abril Letra y música de Rodolfo Sciamarella\\n\\n Letra \\n\\nUn canto de amistad de buena vecindad \\nunidos nos tendrá eternamente \\nPor nuestra libertad por nuestra lealtad \\ntenemos que vivir gloriosamente\\n\\nUn símbolo de paz alumbrará el vivir \\nde todo el Continente Americano \\nFuerza de Optimismo fuerza de Hermandad \\nserá este canto de buena vecindad\\n\\nArgentina Brasil y Bolivia\\nColombia Chile y Ecuador\\nUruguay Venezuela y Honduras \\nGuatemala y El Salvador\\nCosta Rica Haití Nicaragua\\nCuba y Paraguay \\nNorteamérica México y Perú\\nSanto Domingo y Panamá\\n\\n¡Son hermanos soberanos de la libertad\\n¡Son hermanos soberanos de la libertad\\n\\nEn otras versiones se incluyen Cuba y Canadá\\nSanto Domingo es el nombre colonial de República Dominicana\\n\\n Enlaces externos \\n Canción en YouTube\\n\\n\\n\\n\\n\\n\\n\\n\\nEl King Kong es un dulce típico de la Gastronomía del Perú originario de la zona norte específic'"
      ]
     },
     "execution_count": 34,
     "metadata": {},
     "output_type": "execute_result"
    }
   ],
   "source": [
    "# let's do some preprocessing. We don't care about the XML notation, new lines \n",
    "# or punctuation marks other than periods. (We'll consider the end of the sentence\n",
    "# a \"word\") We also don't want to consider capitalization. \n",
    "\n",
    "# get rid of all the XML markup\n",
    "text = re.sub('<.*>','',text)\n",
    "\n",
    "# get rid of the \"ENDOFARTICLE.\" text\n",
    "text = re.sub('ENDOFARTICLE.','',text)\n",
    "\n",
    "# get rid of punctuation (except periods!)\n",
    "punctuationNoPeriod = \"[\" + re.sub(\"\\.\",\"\",string.punctuation) + \"]\"\n",
    "text = re.sub(punctuationNoPeriod, \"\", text)\n",
    "\n",
    "# make sure it looks ok\n",
    "text[0:1000]"
   ]
  },
  {
   "cell_type": "code",
   "execution_count": 35,
   "id": "cd250fc0",
   "metadata": {},
   "outputs": [],
   "source": [
    "# first get individual words\n",
    "tokenized = text.split()\n",
    "\n",
    "# and get a list of all the bi-grams\n",
    "esBigrams = ngrams(tokenized, 2)\n",
    "\n",
    "# If you like, you can uncomment the next like to take a look at \n",
    "# the first ten to make sure they look ok. Please note that doing so \n",
    "# will consume the generator & will break the next block of code, so you'll\n",
    "# need to re-comment it and run this block again to get it to work.\n",
    "# list(esBigrams)[:10]"
   ]
  },
  {
   "cell_type": "code",
   "execution_count": 36,
   "id": "d367d3f8",
   "metadata": {},
   "outputs": [
    {
     "data": {
      "text/plain": [
       "[(('de', 'la'), 45682),\n",
       " (('de', 'los'), 19374),\n",
       " (('en', 'el'), 19323),\n",
       " (('en', 'la'), 18617),\n",
       " (('a', 'la'), 12692),\n",
       " (('de', 'las'), 11335),\n",
       " (('que', 'se'), 8181),\n",
       " (('y', 'el'), 6498),\n",
       " (('y', 'la'), 6286),\n",
       " (('a', 'los'), 5330)]"
      ]
     },
     "execution_count": 36,
     "metadata": {},
     "output_type": "execute_result"
    }
   ],
   "source": [
    "# get the frequency of each bigram in our corpus\n",
    "esBigramFreq = collections.Counter(esBigrams)\n",
    "\n",
    "# what are the ten most popular ngrams in this Spanish corpus?\n",
    "esBigramFreq.most_common(10)"
   ]
  },
  {
   "cell_type": "code",
   "execution_count": 37,
   "id": "a94ac7f2",
   "metadata": {},
   "outputs": [],
   "source": [
    "tokenized = text.split()\n",
    "esTrigrams = ngrams(tokenized, 3)"
   ]
  },
  {
   "cell_type": "code",
   "execution_count": 38,
   "id": "ec5d33b2",
   "metadata": {},
   "outputs": [
    {
     "data": {
      "text/plain": [
       "[(('de', 'la', 'ciudad'), 1898),\n",
       " (('uno', 'de', 'los'), 1804),\n",
       " (('una', 'de', 'las'), 1266),\n",
       " (('a', 'través', 'de'), 1052),\n",
       " (('la', 'ciudad', 'de'), 1047),\n",
       " (('los', 'Estados', 'Unidos'), 965),\n",
       " (('parte', 'de', 'la'), 904),\n",
       " (('de', 'la', 'población'), 894),\n",
       " (('por', 'lo', 'que'), 872),\n",
       " (('en', 'el', 'que'), 844)]"
      ]
     },
     "execution_count": 38,
     "metadata": {},
     "output_type": "execute_result"
    }
   ],
   "source": [
    "esTrigramFreq = collections.Counter(esTrigrams)\n",
    "esTrigramFreq.most_common(10)"
   ]
  },
  {
   "cell_type": "markdown",
   "id": "8ffacc42",
   "metadata": {},
   "source": [
    "# Primera Pregunta \n"
   ]
  },
  {
   "cell_type": "markdown",
   "id": "ffb1bd50",
   "metadata": {},
   "source": [
    "1. Find the most frequent n-grams in another file in this corpus. You can find the other files by entering \"../input/spanish_corpus/\" in a code chunk and then hitting the Tab key. All of the files will be listed in a drop-down menu. Are the most frequent bigrams the same as they were in this file?"
   ]
  },
  {
   "cell_type": "markdown",
   "id": "d27cdc38",
   "metadata": {},
   "source": [
    "## Cargamos otro archivo (1)\n"
   ]
  },
  {
   "cell_type": "code",
   "execution_count": 80,
   "id": "6eee8f33",
   "metadata": {},
   "outputs": [
    {
     "data": {
      "text/plain": [
       "'<doc id=\"46051\" title=\"(737) Arequipa\" nonfiltered=\"1\" processed=\"1\" dbindex=\"20000\">\\nArequipa es el nombre del asteroide número 737 de la serie. Conocido previamente con la designación provisional 1912 QB y la adicional 1961 JH el asteroide (737) fue descubierto en Winchester de 7 de diciembre de 1912 por J.H. Metcalf y bautizado en honor de la ciudad peruana en la cual funcionó de 1889 a 1927 el Observatorio Boyden, una instalación de observación del hemisferio sur del Harvard College Observatory.\\n\\n\\n\\n\\n\\n\\n\\n\\n\\n\\n\\n\\n\\nENDOFARTICLE.\\n</doc>\\n<doc id=\"46052\" title=\"Provincia de Teherán\" nonfiltered=\"2\" processed=\"2\" dbindex=\"20001\">\\n\\n\\nLa provincia de Teherán (Farsi:            ) es una de las 30 provincias de Irán, tiene cerca de 12 millones de habitantes y es la provincia más densamente problada de Irán. Tiene una extensión de alrededor de 18.637 km² y se encuentra al norte de la meseta central iraní. \\n\\nLa provincia de Teherán limita con las provincias de Mazandarán al norte, Qom al sur, Semnán'"
      ]
     },
     "execution_count": 80,
     "metadata": {},
     "output_type": "execute_result"
    }
   ],
   "source": [
    "import nltk, re, string, collections\n",
    "from nltk.util import ngrams \n",
    "\n",
    "\n",
    "with open(\"./archive/spanish_corpus/spanishText_20000_25000\", \"r\", encoding='latin-1') as file:\n",
    "    text = file.read()\n",
    "\n",
    "\n",
    "text[0:1000]"
   ]
  },
  {
   "cell_type": "code",
   "execution_count": 81,
   "id": "82b05f21",
   "metadata": {},
   "outputs": [],
   "source": [
    "tokenized = text.split()\n",
    "esBigrams = ngrams(tokenized, 2)"
   ]
  },
  {
   "cell_type": "code",
   "execution_count": 82,
   "id": "05a8082f",
   "metadata": {},
   "outputs": [
    {
     "data": {
      "text/plain": [
       "[(('de', 'la'), 45340),\n",
       " (('en', 'el'), 19598),\n",
       " (('de', 'los'), 18648),\n",
       " (('en', 'la'), 18317),\n",
       " (('a', 'la'), 13042),\n",
       " (('de', 'las'), 10822),\n",
       " (('que', 'se'), 8508),\n",
       " (('y', 'el'), 6486),\n",
       " (('de', 'su'), 6257),\n",
       " (('y', 'la'), 6059)]"
      ]
     },
     "execution_count": 82,
     "metadata": {},
     "output_type": "execute_result"
    }
   ],
   "source": [
    "esBigramFreq = collections.Counter(esBigrams)\n",
    "esBigramFreq.most_common(10)"
   ]
  },
  {
   "cell_type": "markdown",
   "id": "b8882497",
   "metadata": {},
   "source": [
    "## Cargamos otro archivo (2)\n"
   ]
  },
  {
   "cell_type": "code",
   "execution_count": 8,
   "id": "52a351da",
   "metadata": {},
   "outputs": [
    {
     "data": {
      "text/plain": [
       "'<doc id=\"1363964\" title=\"Sonnewalde\" nonfiltered=\"1\" processed=\"1\" dbindex=\"345000\">\\n\\n\\n\\n\\nSonnewalde es un municipio del distrito de Elbe-Elster, en Brandeburgo, (Alemania). Está situado a 8 km al noroeste de Finsterwalde. \\n\\n Enlaces externos .\\nwww.stadt-sonnewalde.de  (en alemán);\\n\\n\\n\\n\\n\\n\\n\\n\\n\\n\\n\\n\\nENDOFARTICLE.\\n</doc>\\n<doc id=\"1363965\" title=\"José María Ramos Loscertales\" nonfiltered=\"2\" processed=\"2\" dbindex=\"345001\">\\nJosé María Ramos y Loscertales (Zaragoza, 1890; Salamanca, 1956) es un importante historiador español de finales del siglo XIX y principios-mediados del siglo XX.\\n\\nDiscípulo de Hinojosa en el Centro de Estudios Históricos, entre sus compañeros allí se encontraban historiadores destacados como Sánchez Albornoz y Galo Sánchez, entre otros.\\n\\nFue catedrático de Historia de España en la Universidad de Salamanca y dedicó sus investigaciones a la España antigua y a la historia del derecho, especialmente del aragonés. Fue rector de la Universidad, cargo del que dimitió al proclamarse'"
      ]
     },
     "execution_count": 8,
     "metadata": {},
     "output_type": "execute_result"
    }
   ],
   "source": [
    "import nltk, re, string, collections\n",
    "from nltk.util import ngrams \n",
    "\n",
    "\n",
    "with open(\"./archive/spanish_corpus/spanishText_345000_350000\", \"r\", encoding='latin-1') as file:\n",
    "    text = file.read()\n",
    "\n",
    "\n",
    "text[0:1000]"
   ]
  },
  {
   "cell_type": "code",
   "execution_count": 9,
   "id": "cf67dbe4",
   "metadata": {},
   "outputs": [],
   "source": [
    "tokenized = text.split()\n",
    "esBigrams = ngrams(tokenized, 2)"
   ]
  },
  {
   "cell_type": "code",
   "execution_count": 10,
   "id": "8e97ebbd",
   "metadata": {},
   "outputs": [
    {
     "data": {
      "text/plain": [
       "[(('de', 'la'), 16755),\n",
       " (('en', 'el'), 8545),\n",
       " (('en', 'la'), 7553),\n",
       " (('de', 'los'), 5852),\n",
       " (('ENDOFARTICLE.', '</doc>'), 4719),\n",
       " (('</doc>', '<doc'), 4719),\n",
       " (('a', 'la'), 4321),\n",
       " (('de', 'las'), 3650),\n",
       " (('que', 'se'), 2535),\n",
       " (('y', 'el'), 2422)]"
      ]
     },
     "execution_count": 10,
     "metadata": {},
     "output_type": "execute_result"
    }
   ],
   "source": [
    "esBigramFreq = collections.Counter(esBigrams)\n",
    "esBigramFreq.most_common(10)"
   ]
  },
  {
   "cell_type": "markdown",
   "id": "ac6d718d",
   "metadata": {},
   "source": [
    "# Comparacion"
   ]
  },
  {
   "cell_type": "markdown",
   "id": "5278d8a6",
   "metadata": {},
   "source": [
    "### BIGRAM 1"
   ]
  },
  {
   "cell_type": "code",
   "execution_count": 36,
   "id": "dee83dbd",
   "metadata": {},
   "outputs": [
    {
     "data": {
      "text/plain": [
       "[(('de', 'la'), 45682),\n",
       " (('de', 'los'), 19374),\n",
       " (('en', 'el'), 19323),\n",
       " (('en', 'la'), 18617),\n",
       " (('a', 'la'), 12692),\n",
       " (('de', 'las'), 11335),\n",
       " (('que', 'se'), 8181),\n",
       " (('y', 'el'), 6498),\n",
       " (('y', 'la'), 6286),\n",
       " (('a', 'los'), 5330)]"
      ]
     },
     "execution_count": 36,
     "metadata": {},
     "output_type": "execute_result"
    }
   ],
   "source": [
    "# get the frequency of each bigram in our corpus\n",
    "esBigramFreq = collections.Counter(esBigrams)\n",
    "\n",
    "# what are the ten most popular ngrams in this Spanish corpus?\n",
    "esBigramFreq.most_common(10)"
   ]
  },
  {
   "cell_type": "markdown",
   "id": "77c1a94f",
   "metadata": {},
   "source": [
    "### BIGRAM 2\n"
   ]
  },
  {
   "cell_type": "code",
   "execution_count": 82,
   "id": "9c1dbd2f",
   "metadata": {},
   "outputs": [
    {
     "data": {
      "text/plain": [
       "[(('de', 'la'), 45340),\n",
       " (('en', 'el'), 19598),\n",
       " (('de', 'los'), 18648),\n",
       " (('en', 'la'), 18317),\n",
       " (('a', 'la'), 13042),\n",
       " (('de', 'las'), 10822),\n",
       " (('que', 'se'), 8508),\n",
       " (('y', 'el'), 6486),\n",
       " (('de', 'su'), 6257),\n",
       " (('y', 'la'), 6059)]"
      ]
     },
     "execution_count": 82,
     "metadata": {},
     "output_type": "execute_result"
    }
   ],
   "source": [
    "esBigramFreq = collections.Counter(esBigrams)\n",
    "esBigramFreq.most_common(10)"
   ]
  },
  {
   "cell_type": "markdown",
   "id": "1b196472",
   "metadata": {},
   "source": [
    "### BIGRAM 3"
   ]
  },
  {
   "cell_type": "code",
   "execution_count": 10,
   "id": "7a90a7a8",
   "metadata": {},
   "outputs": [
    {
     "data": {
      "text/plain": [
       "[(('de', 'la'), 16755),\n",
       " (('en', 'el'), 8545),\n",
       " (('en', 'la'), 7553),\n",
       " (('de', 'los'), 5852),\n",
       " (('ENDOFARTICLE.', '</doc>'), 4719),\n",
       " (('</doc>', '<doc'), 4719),\n",
       " (('a', 'la'), 4321),\n",
       " (('de', 'las'), 3650),\n",
       " (('que', 'se'), 2535),\n",
       " (('y', 'el'), 2422)]"
      ]
     },
     "execution_count": 10,
     "metadata": {},
     "output_type": "execute_result"
    }
   ],
   "source": [
    "esBigramFreq = collections.Counter(esBigrams)\n",
    "esBigramFreq.most_common(10)"
   ]
  },
  {
   "cell_type": "markdown",
   "id": "6b047ee3",
   "metadata": {},
   "source": [
    "## Conclusión\n"
   ]
  },
  {
   "cell_type": "markdown",
   "id": "542f9d59",
   "metadata": {},
   "source": [
    "Respuesta:De acuerdo a los resultados podemos concluir que para este corpus la gran mayoria de veces se tiene los mismos bigramas "
   ]
  },
  {
   "cell_type": "markdown",
   "id": "bb61c2f7",
   "metadata": {},
   "source": [
    "# EJERCICIO N-GRAMS 1 (Ingles)"
   ]
  },
  {
   "cell_type": "code",
   "execution_count": 41,
   "id": "7e403354",
   "metadata": {},
   "outputs": [
    {
     "data": {
      "text/plain": [
       "\"Feeling my way through the darkness Guided by a beating heart I can't tell where the journey will end But I know where to start\\n\\nThey tell me I'm too young to understand They say I'm caught up in a dream Well life will pass me by if I don't open up my eyes Well that's fine by me\\n\\nSo wake me up when it's all over When I'm wiser and I'm older All this time I was finding myself And I didn't know I was lost\\n\\nI tried carrying the weight of the world But I only have two hands Hope I get the chance to travel the world But I don't have any plans\\n\\nWish that I could stay forever this young Not afraid to close my eyes Life's a game made for everyone And love is the prize\\n\\nSo wake me up when it's all over When I'm wiser and I'm older All this time I was finding myself And I didn't know I was lost\\n\\nDidn't know I was lost I didn't know I was lost I didn't know I was lost I didn't know (didn't know, didn't know)\\n\\nWe are one\\nOne for sure\\nAll united\\nYou'll want some more\\n\\nOh Oh Oh Oh\\nYou make me\\nOh Oh \""
      ]
     },
     "execution_count": 41,
     "metadata": {},
     "output_type": "execute_result"
    }
   ],
   "source": [
    "import nltk, re, string, collections\n",
    "from nltk.util import ngrams \n",
    "\n",
    "\n",
    "with open(\"./Corpus/song/avicii_lyrics.txt\", \"r\", encoding='UTF-8') as file:\n",
    "    text = file.read()\n",
    "\n",
    "\n",
    "text[0:1000]"
   ]
  },
  {
   "cell_type": "code",
   "execution_count": 42,
   "id": "cfed043f",
   "metadata": {},
   "outputs": [],
   "source": [
    "tokenized = text.split()\n",
    "esBigrams = ngrams(tokenized, 2)"
   ]
  },
  {
   "cell_type": "code",
   "execution_count": 43,
   "id": "a5159721",
   "metadata": {},
   "outputs": [
    {
     "data": {
      "text/plain": [
       "[(('Tell', 'me'), 46),\n",
       " (('on', 'the'), 43),\n",
       " (('And', 'I'), 42),\n",
       " (('I', 'get'), 40),\n",
       " (('in', 'the'), 39),\n",
       " (('me', \"I'm\"), 37),\n",
       " (('me', \"can't\"), 37),\n",
       " ((\"can't\", 'you'), 37),\n",
       " (('tell', 'me'), 35),\n",
       " (('I', \"can't\"), 33)]"
      ]
     },
     "execution_count": 43,
     "metadata": {},
     "output_type": "execute_result"
    }
   ],
   "source": [
    "esBigramFreq = collections.Counter(esBigrams)\n",
    "esBigramFreq.most_common(10)"
   ]
  },
  {
   "cell_type": "code",
   "execution_count": 44,
   "id": "a841797d",
   "metadata": {},
   "outputs": [],
   "source": [
    "tokenized = text.split()\n",
    "esTrigrams = ngrams(tokenized, 3)"
   ]
  },
  {
   "cell_type": "code",
   "execution_count": 45,
   "id": "db2a5d58",
   "metadata": {},
   "outputs": [
    {
     "data": {
      "text/plain": [
       "[(('me', \"can't\", 'you'), 37),\n",
       " (('Tell', 'me', \"can't\"), 31),\n",
       " (('My', 'feelings', 'for'), 26),\n",
       " (('feelings', 'for', 'you'), 26),\n",
       " ((\"can't\", 'you', 'feel'), 23),\n",
       " ((\"I'm\", 'gonna', 'love'), 22),\n",
       " (('me', \"I'm\", 'the'), 20),\n",
       " (('on', 'the', 'run'), 18),\n",
       " (('I', 'can', 'do'), 18),\n",
       " (('can', 'do', 'so'), 18)]"
      ]
     },
     "execution_count": 45,
     "metadata": {},
     "output_type": "execute_result"
    }
   ],
   "source": [
    "esTrigramFreq = collections.Counter(esTrigrams)\n",
    "esTrigramFreq.most_common(10)"
   ]
  },
  {
   "cell_type": "markdown",
   "id": "b096dc14",
   "metadata": {},
   "source": [
    "# Sopranos Español Ejercicio 2\n"
   ]
  },
  {
   "cell_type": "markdown",
   "id": "d8722030",
   "metadata": {},
   "source": [
    "## Analizamos los dialogos de los primeros 4 capitulos de la primera temporada "
   ]
  },
  {
   "cell_type": "code",
   "execution_count": 75,
   "id": "2596e83a",
   "metadata": {},
   "outputs": [
    {
     "data": {
      "text/plain": [
       "'¿señor Soprano?\\nSí.\\nTome asiento.\\nSegún me dice el doctor Cusamano...\\n...su médico de cabecera,\\nusted se desmayó.\\nPosiblemente fue\\nun ataque de pánico.\\nNo podía respirar.\\nEllos dijeron que fue\\nun ataque de pánico...\\n...pues los análisis de sangre y estudios\\nneurológicos fueron negativos...\\n...y me enviaron aquí.\\n¿No cree haber tenido\\nun ataque de pánico?\\n¿Cómo se siente ahora?\\nBien.\\nGenial. Volví a trabajar.\\n¿En qué trabaja?\\nConsultoría de manejo\\nde desperdicios.\\nMire, es imposible que hable\\ncon un psiquiatra.\\n¿Tiene idea de por qué se desmayó?\\nNo lo sé.\\nQuizá por estrés.\\n¿Sobre qué?\\nNo lo sé.\\nEstuve pensando en la mañana\\ndel día en que me descompuse.\\nEs bueno estar en algo\\ndesde el principio.\\nPero llegué muy tarde para eso, lo sé.\\nÚltimamente tengo la sensación\\nde que llegué al final.\\nQue lo mejor ya pasó.\\nMuchos estadounidenses\\nse sienten así, me parece.\\nPienso en mi padre. El nunca llegó\\na la altura en que estoy yo...\\n...pero de muchas maneras,\\nél estaba mejor. Tenía a los suyos.\\nEllos tenían sus normas.\\nTenían orgullo.\\n¿Qué tenemos hoy?\\n¿La sensación de pérdida fue más\\nintensa horas antes del desmayo?\\nNo lo sé.\\nUn par de meses antes...\\n...dos patos salvajes aterrizaron\\nen mi piscina.\\nFue increíble, son de Canadá o por ahí,\\ny era temporada de apareamiento.\\nTuvieron patitos.\\nTomen, tomen.\\nLa amiga de mi hija Meadow había\\nvenido para llevarla a la escuela.\\nMeadow, tu padre con esos patos.\\nLo sé, el jardín huele a popó\\nde pato. Es vergonzoso.\\nDeben desayunar más que jugo de\\narándano. Deben alimentar el cerebro.\\nFeliz cumpleaños. Trece.\\nNo actúa como si los tuviera.\\nEl pato y la pata hicieron su hogar\\nen la piscina y lo hicieron.\\nFuera de aquí.\\nAsqueroso.\\n¿Quieren sfogliatella de anoche?\\nSal de aquí con esa grasa.\\nUn poquito.\\n¿Cómo se mantiene tan delgada?\\nEl y esos patos.\\nSi no les gusta esa rampa, les\\nconstruiré otra, quizá es la madera.\\nChicos, vengan,\\nestán tratando de volar.\\nVengan. Los bebés...\\nTratan de volar.\\nMiren, intentan volar.\\nNational Geographic, papá.\\nGenial.\\nNos mostraste ayer.\\nEs genial.\\nMi esposa siente que esta amiga\\nes una mala influencia.\\nEs tan genial que puedas venir a Aspen\\ncon mi familia en Navidad.\\nEl año pasado vi a Skeet Ulrich.\\nTan cerca como tú.\\nDios mío.\\nseñorita Meadow, hicimos un trato...\\n...si mantienes las notas altas\\ny tu horario límite...\\n...entre Navidad y ahora,\\nentonces podrás ir.\\nLo sé.\\nBuen día, damas.\\nHola, señor Soprano.\\nLlegaremos tarde, papá.\\nOye. Feliz cumpleaños.\\nGracias, papá.\\nVendrás a la fiesta de cumpleaños\\nde Anthony hijo, ¿no?\\nHombre pájaro, hola.\\nSí. Sí. Vendré temprano.\\nNo hablaba del trabajo.\\nEsto no funcionará. No puedo hablar\\nsobre mi vida personal.\\nTermine de contarme sobre el día\\nen que se desmayó.\\nFui a trabajar con mi sobrino,\\nChristopher. Aprende el negocio.\\nEs un ejemplo de lo que hablaba antes.\\n¿Llamaste al fulano de Triborough\\nTowers sobre el contrato?\\nAnoche llegué a casa muy tarde.\\nNo quería despertarlo.\\n¿Te levantaste temprano\\npara llamarlo?\\nEstá en su oficina a las 6:00.\\nMe levanté con náuseas. Mi madre\\ndijo que no debía venir a trabajar.\\nTenga en cuenta que él acaba\\nde comprarse un Lexus de dolares 60.000.\\nAllí está el tal Mahaffey.\\nSal.\\nSí, junto a la belleza de rosa.\\nRetrocede.\\nMi amigo Mahaffey tira de su piolín.\\nHola.\\nVimos a un tipo y había un problema\\ncon un préstamo impago.\\n¿Puedo detenerlo un momento?\\nNo sé adónde va esta historia.\\nPero hay ciertas reglas\\néticas básicas...\\n...que deberíamos dejar en claro\\nrápidamente.\\nNuestras charlas son confidenciales\\nentre médico y paciente.\\nSalvo en caso de que...\\nsi fuera a enterarme...\\n...de que, digamos, estuviera\\npor tener lugar un asesinato.\\nNo es que digo que así sea,\\npero si...\\n...si un paciente viniera a decirme una\\nhistoria donde alguien sale herido...\\n...se supone que vaya\\na las autoridades.\\nTécnicamente.\\nDijo que trabajaba con basura.\\nEl medio ambiente.\\nEl doctor Cusamano, aparte de ser\\nsu médico de cabecera...\\n...también es su vecino.\\n¿Ve a lo que me refiero?\\nNo sé qué pasó con este tipo...\\n...sólo lo estoy diciendo.\\nNada, tomamos café.\\nAlex.\\nSocorro.\\nSeguridad, socorro.\\nCarajo.\\nImbécil.\\nTony. Espera.\\nSeguridad.\\nOiga, seguridad.\\n¿Estás bien?\\nTengo la pierna rota.\\nSe ve el hueso.\\nDéjame ver.\\nTe voy a dar hueso, cretino.\\n¿Dónde está mi maldito dinero?\\nEntonces tomaron café.\\nCorrecto.\\n...la maldita cara, hijo de puta.\\n¿Qué haces? Ven aquí. Que vengas.\\nSon dolares 3.000. dolares 3.000.\\nAdelante.\\n¿Dónde está nuestro maldito dinero?\\nLo conseguiré.\\nSé que lo conseguirás.\\n¿Sabes qué debes conseguir?\\nUn corcho para la boca, pues dices...\\n...que no soy nadie comparado\\ncon la gente que solía estar al mando.\\nLo siento.\\nCretino.\\n¿No soy nada?\\nCállate.\\n¿Por qué lloras?\\nMedicina prepaga.\\nEstás cubierto, cretino.\\nMaldito jugador degenerado.\\nContinúe.\\nAl día siguiente, tuve un desayuno\\nde trabajo.\\nMe llamaron para consultar\\nen una empresa a la que represento.\\nBig, ¿qué se sabe\\nde Tribourogh Towers?\\nEl capataz quiere renovar\\nsu contrato con Dick...\\n...pero Sanidad Kolar...\\n...otra empresa nacional...\\n...de los Hnos. Kolar, una especie\\nde inmigrantes checoslovacos...\\n...unos polacos, se llevarán\\npapel, plástico y aluminio...\\n...por 7.000 menos que Dick al mes.\\nEntonces nos pagan 40 veces\\nla mensualidad por robar la parada.\\nEse es el tema...\\nno lo harán.\\nEl dice que si puede decirles a los\\njefes comunistas en Checoslovaquia...\\n...que se vayan a la mierda,\\npuede hacer lo mismo con nosotros.\\nMe rindo.\\nMaldito negocio de la basura.\\nSí, lo sé, todo está cambiando.\\nDéjame ver qué puedo hacer.\\n¿Estás seguro? ¿Se te pasó\\nel dolor de estómago?\\nSí.\\nBien.\\n¿Qué haces aquí?\\nHola.\\nGabriella quiere cappacola.\\nEl mejor del área.\\nOye, T, déjame preguntarte algo...\\n¿No ibas a la escuela con un tal\\nArtie Bucco?\\nSurgió una situación\\nque involucra a mi tío.\\nNo puedo darle detalles al respecto.\\nEstá bien.\\nPero sí diré esto\\nMi tío contribuye\\na mi nivel general de estrés.\\nNo es asunto mío,\\npero en el club...\\n...se dice que tu tío Junior\\nva a matar a Pussy Malanga.\\nLo hará en el restaurante\\nde tu amigo Artie Bucco.\\nHola, muchachos, ¿cómo están?\\nNo te muevas.\\nTío Jun, ¿cómo estás?\\nHola, gusto en verte.\\nHola, Chris.\\nHola, tío Junior.\\nJustamente hablábamos de ti.\\n¿La cena de cumpleaños\\nde Anthony hijo es esta noche?\\nSí, no compres nada importante.\\nLo malcriamos, ¿de acuerdo?\\nHola.\\nArtie, ¿qué tal tu sarpullido?\\nPica.\\nVen aquí.\\nGusto en verte. ¿Puedes venir?\\nSí, toma asiento.\\n¿Sabes lo que es para Arthur\\nsi uno de estos vejetes revienta aquí?\\nSí, le arruinará el negocio.\\nMejor hablas con tu tío.\\nTío Junior es hermano de mi padre.\\nEs buen tipo, pero está envejeciendo.\\nEs malhumorado.\\nSolía llevarme a ver a los Yankees\\ncuando era niño.\\nYo amo a mi tío...\\n...pero, al mismo tiempo,\\ncuando yo era joven...\\n...le dijo a mis primas que yo nunca sería\\natleta universitario, y francamente...\\n...ése fue un enorme golpe\\na mi autoestima.\\n¿Quién anda allí?\\nSoy yo, ma.\\n¿Quién?\\nMa, abre la puerta.\\n¿Anthony?\\nSí, soy yo, abre la puerta.\\nHola, ¿cómo estás?\\nCielos, ma, ventila un poco la casa.\\n¿Cerraste la puerta bien?\\nSí.\\nAlguien llamó anoche, tras oscurecer.\\n¿Quién?\\n¿Crees que respondí? Estaba oscuro.\\nMa, nunca lo entenderé.\\nEl teléfono es algo auditivo.\\nLa oscuridad tiene que ver\\ncon los ojos.\\nPuedo entender que no salgas\\ncuando está oscuro...\\n...¿pero que no atiendas el teléfono\\ntras oscurecer?\\nEscúchenlo, lo sabe todo.\\n¿Quieres almorzar?\\nTengo berenjenas.\\nNo, acabo de comer.\\n¿Sabes con quién acabo de cruzarme?\\nCon tío Jun.\\n¿Crees que alguna vez viene a ver\\na su cuñada?\\nSí. ¿Recuerdas a Artie Bucco?\\n¿Mi compañero de primaria?\\nArtie.\\nSí, aún veo a su madre.\\nElla me dice que él la llama\\ntodos los días.\\nSí, bueno.\\nTío Jun le causará problemas a Artie.\\nPodría afectar su medio de vida.\\n¿Qué es eso?\\nUn pasa CDs.\\n¿Para quién? ¿Para mí?\\nSí.\\nNo lo quiero.\\n¿No lo quieres?\\nTe encanta la música.\\nEstán sacando discos viejos en CD...\\n...todos tus favoritos Pajama Game,\\nConnie Francis.\\nMira.\\nMuévete, es bueno para ti.\\nVamos. Vamos.\\n¿Qué? ¿Qué?\\nPara eso.\\nMa, necesitas algo para ocupar\\ntu mente. Cuando murió papá...\\n...dijiste que harías muchas cosas.\\nEra un santo.\\nSí, lo sé, pero se ha ido.\\nIbas a viajar, a trabajar de voluntaria.\\nDeja de decirme cómo vivir mi vida.\\nSólo cállate.\\nMe preocupas.\\nNo empieces con lo del geriátrico.\\nNo es un geriátrico,\\nes una comunidad de retiro.\\nEstás con ancianos activos, de tu edad.\\nVan a lugares, hacen cosas.\\nVi a las mujeres de geriátrico, en sillas\\nde ruedas, hablando como idiotas.\\nCome tus berenjenas.\\nTe dije que ya había almorzado.\\nBueno, escucha.\\nSólo habla con tío Junior\\nsobre Artie, ¿de acuerdo?\\nEl te respeta y te escuchará.\\nSi tu tío tiene negocios con Arthur...\\n...él sabe lo que hace.\\n¿Y yo no?\\nPues yo sólo sé que...\\n...las hijas cuidan mejor de sus\\nmadres que los hijos.\\nSí, y yo le compré CDs\\na un disco rayado.\\nEspero verte esta noche en el\\ncumpleaños de Anthony hijo con tu ziti.\\nSólo si me vienen a buscar\\ny me traen.\\nNo manejo cuando pronostican lluvia.\\nEres una chica saludable.\\nEs bueno que manejes.\\nÚsalo o piérdelo.\\nDebo ir a trabajar.\\nClaro. Huye.\\nY esa noche fue la fiesta\\nde cumpleaños de mi hijo.\\nMi esposa invitó al cura.\\nEl siempre está en casa.\\nHola, Tony.\\n¿Cómo está?\\n¿Te gusta la crema inglesa?\\nSi usted la bendice, la comeré.\\nLa abuela llamó y no vendrá.\\n¿Quién?\\nEmpezó a llorar y colgó.\\nElla necesita un propósito\\nen la vida.\\nTu madre es más dura\\nde lo que parece.\\n¿Entonces qué?\\n¿Ahora no habrá los putos ziti?\\nAl principio, sentí como si tuviera\\nginger ale en el cráneo.\\nMamá, papá se cayó.\\nMamá.\\nTony.\\nPapá.\\nAtrás.\\nPapi. Papá.\\nAnthony hijo, llama al 911.\\nEl doctor Cusamano me puso\\nen el hospital...\\n...y me hizo todos los\\nanálisis posibles.\\nAdentro del tomógrafo hay\\nun micrófono por si le da claustrofobia.\\nSugiero que no lo use porque\\ntendremos que comenzar de nuevo.\\nDe acuerdo.\\nHola, Carm.\\nCreí que querrías compañía.\\nSí.\\nSon las 6:30 de la mañana.\\n¿Cómo están los niños?\\nPreocupados por ti.\\nLe dije a Anthony Jr que...\\n...tendría otra fiesta de cumpleaños.\\nDe acuerdo.\\n¿Crees que tenga un tumor cerebral?\\nPues ya nos enteraremos.\\nVaya forma de tratar a un enfermo.\\nEs muy alentador.\\n¿Qué harás? ¿No saber?\\nLa pasamos muy bien.\\nTuvimos buenos años.\\nY empieza con la nostalgia.\\nOye, sólo digo que\\nningún matrimonio es perfecto.\\nPero tener una querida ayuda.\\nYa te dije que no la veía más.\\n¿Cómo crees que me siento...\\n...con la presencia del cura?\\nNo empieces con eso.\\nEl Padre es un mentor espiritual...\\n...me ayuda a ser mejor católica.\\nSí, bueno, todos tenemos\\nnecesidades distintas.\\nLa diferencia entre tú y yo es\\nque cuando te mueras irás al infierno.\\nMi sobrino Christopher...\\n...estaba manejando el problema\\ndel contrato.\\nPero tampoco entraré en detalles\\nrespecto a esto.\\nEmile Kolar.\\nChris Moltisanti.\\nTambién nos encanta el cerdo\\nen la República Checa.\\n¿Alguna vez probaste\\nnuestras salchichas?\\nNo, creí que las únicas salchichas\\neran las italianas y las de Viena.\\n¿Ves lo que aprendes cuando cruzas\\nlas culturas y todo eso?\\nMi tío Evzen no sabe que vine.\\nSi progresamos, deberé decírselo.\\nTenemos que progresar, Email.\\nDebemos parar la locura.\\nEl negocio de la basura\\nestá cambiando.\\nNosotros, los de la generación\\nmás joven, tenemos cosas en común.\\nEmile.\\n¿Adónde fuiste a la secundaria?\\n¿En Polonia?\\nNo soy polaco.\\n¿Qué son los checoslovacos?\\nUna especie de polaco, ¿no?\\nYo vine a este país a los nueve años.\\nFui a West Essex.\\nViejo, tú solías jugar contra mi primo\\nal fútbol americano.\\nEl iba a Boon\\n¿Dónde están las cosas?\\nSí, sí.\\nLa razón de la visita.\\nLo tengo todo preparado para ti.\\nPrueba las herramientas, Email.\\nEmile.\\nLos médicos me tienen esperando\\ncon respecto a los análisis...\\n...como hacen los médicos.\\nAsí que mi tío y yo jugamos al golf\\ny almorzamos.\\nSigue mencionando a su tío.\\n¿Cuál parece ser el problema?\\n¿Quién te crees que eres?\\nEl que dice cómo se hacen las cosas.\\nEscucha, el negocio de Artie...\\n...atrae a gente buena, de clase alta,\\nde los suburbios.\\nNo le arruines la vida.\\nPussy se siente seguro\\nen el Vesuvio.\\nLleva toda la vida comiendo allí.\\nMátalo en otro lado.\\nTú puedes dirigir el norte de Jersey,\\npero no diriges a tu tío Junior.\\n¿Cuántas malditas horas\\npractiqué lanzamientos contigo?\\n¿Podemos concentrarnos más\\nen su familia inmediata?\\nMi esposa y mi hija\\nno se estaban llevando bien.\\nTu marido destruyó el maizal\\npara construir un diamante de béisbol.\\nEstos discos láser son increíbles.\\nTony mira El Padrino parte ll\\ntodo el tiempo.\\nDice que el trabajo de cámara se ve\\ntan bien como en el cine.\\nGordon Willis. ¿Tony prefiere\\nla II y no la I?\\nSí, le gusta la parte en que Vito\\nregresa a Sicilia.\\n¿Qué pasó en la III?\\n¿Cómo califica Tony\\na Buenos Muchachos?\\n¿Tiene mapaches?\\nAlguien trata de abrir la ventana.\\n¿Qué?\\nUds. tienen luces de seguridad.\\n¿Quién trataría...?\\nNo, cielos.\\nQuieto.\\nMeadow.\\nVi que el cristal tiembla cada vez\\nque voy al lavadero.\\n¿Tenemos... cómo se llama,\\nmasilla?\\nNo me vengas con eso. Te escapaste.\\n¿Qué pasa?\\nTrabaste la ventana de mi cuarto\\na propósito para que me pescaran.\\nLa gente normal creía que estabas\\nhaciendo tus tareas.\\nTe has vuelto maestra\\nen mentir y engañar.\\nSí, sé que estoy castigada...\\n...pero la competencia de natación\\nde Patrick es mañana y me necesitaba.\\n¿Castigada por esto?\\nNo, no estás castigada.\\nAdonde no irás será a Aspen.\\nSí.\\nPero le digo, toda esta mierda\\nya va a pasar.\\n¿No le admitió al doctor Cusamano...\\n...que se sentía deprimido?\\nMelfi.\\n¿De qué parte de la bota es, querida?\\nDra. Melfi.\\nLa familia de mi padre\\nera de Caserta.\\nAvellino.\\nA mi madre le hubiera encantado\\nsi usted y yo nos hubiéramos casado.\\nLos ataques de ansiedad son\\nemergencias psiquiátricas legítimas.\\n¿Supongamos que estuviera\\nmanejando y se desmayara?\\nDéjeme decirle algo. Hoy en día,\\ntodo el mundo debe ir al psiquiatra...\\n...y al psicólogo y a hablar\\nde sus problemas en latelevisión.\\n¿Qué pasó con Gary Cooper?\\nEl tipo fuerte y silencioso.\\nEse era el estadounidense.\\nEl no estaba en contacto\\ncon sus sentimientos.\\nSólo hacía lo que tenía que hacer.\\nLo que no sabían era que una vez\\nque ponían a Gary Cooper...\\n...en contacto con sus sentimientos,\\nno podrían callarlo.\\nEntonces es esta disfunción, y ésa,\\ny va fangulo.\\nTiene sentimientos muy fuertes\\nrespecto a esto.\\nFui a la universidad\\nun semestre y medio.\\nEntiendo a Freud, entiendo\\nla terapia como concepto...\\n...pero en mi mundo,\\nno cae bien.\\n¿Podría estar más feliz?\\nSí, ¿quién no?\\n¿Se siente deprimido?\\n¿Se siente deprimido?\\nSupongo que desde que se fueron\\nlos patos.\\nLos patos que precedieron\\nsu pérdida de la conciencia.\\nHablemos de ellos.\\nNo puedes culpar a T por estar furioso.\\nMataste al muchacho.\\nDebiste haber esperado.\\nNo volveré a mostrar iniciativa.\\n¿Te imaginas cómo me sentí yo?\\nT está fundiendo\\nel negocio de la basura...\\n...yo mato a un fulano para retener\\nuna de nuestras paradas.\\nEl no lo está fundiendo, las cosas\\nen Nueva York se ponen más difíciles.\\nUno, dos, tres.\\nVamos.\\nEsto es jodido.\\n¿Qué, Pussy?\\n¿El tío de Kolar hallará al chico muerto\\nen uno de sus contenedores...\\n...y se saldrá de nuestros asuntos?\\nDe ningún modo.\\nLouis Brasi duerme con los peces.\\nLuca Brasi. Luca.\\nLo que sea.\\nHay diferencias, Christopher, ¿sí?\\nEntre la situación de Luca Brasi y ésta.\\nMira, si los Kolar saben que el chico\\nestá muerto...\\n...su posición se endurece.\\nAdemás ahora la policía busca\\na un asesino.\\n¿Entonces qué quieres hacer?\\nDesaparece. Nunca vuelve a casa.\\nEllos lo saben, pero no lo saben.\\nEsperan que quizá reaparezca...\\nquizá.\\nSí, sí, vamos, agarrémoslo.\\nLlevémoslo a Staten Island.\\nYo lo descuartizaré.\\nDe acuerdo.\\nVamos.\\nPussy, sabes, con el desmayo de T\\nen el cumpleaños...\\n...¿qué harías si quedara incapacitado?\\n¿Por qué haces esa pregunta?\\nNuestra serie de conferencias\\nen acción.\\nAlguien de la universidad discute\\nlas novelas de Zora Neale Hurston.\\n¿No acabas de leerla\\nen la escuela, Mead?\\nEs muy bonito.\\nSabes, abuela, este lugar\\nes bastante lindo.\\nRealmente deberías pensarlo.\\nEsta sala fue remodelada\\nel año pasado.\\n¿Qué pasa tras esas puertas?\\nEsa puertas llevan a la unidad\\nde enfermería.\\nEsto es un geriátrico.\\nEs una residencia, pero por si acaso\\nNo, no me meterás en\\nNo estás escuchando.\\nNo escuchas, ma.\\nConozco a las de silla de ruedas.\\nMa, no escuchas.\\nMa...\\nTe crees tan poderosa...\\n...con tu oficina especial.\\nMa.\\nMa.\\nLa gente viene aquí a morir.\\nDios mío.\\nTony.\\nTraigan a un médico.\\nPapá.\\nEntonces... regresó por ayuda.\\nNo lo vea como una derrota.\\nElla es parte de la generación\\nque se crió durante la Depresión.\\nPero la Depresión para ella fue un viaje\\na un parque de diversiones.\\nAllí está de nuevo la palabra\\nque empieza con D.\\nSiga con su madre.\\nAhora que mi padre está muerto,\\nes un santo.\\nCuando estaba vivo, nada.\\nMi papá era rudo, dirigía\\na sus propios hombres.\\nMi madre redujo a la nada\\na semejante hombre.\\nEra un hámster chillón cuando murió.\\nUna presencia materna formidable.\\nDebo ser honesto con usted...\\nMi trabajo tampoco me brinda\\nsatisfacciones.\\n¿Por qué?\\nDebido a RICO.\\n¿Es su hermano?\\nNo, ¿los estatutos RICO?\\nClaro.\\n¿No lee los diarios? El gobierno usa\\nvigilancia electrónica...\\n...y otras estrategias legales\\npara presionar a mi negocio.\\n¿Tiene dudas por el modo\\nen que se gana la vida?\\nSí.\\nResulta que debo ser el payaso triste.\\nEl que ríe por fuera...\\n...y llora por dentro.\\nVe, las cosas van mal.\\nSolía ser que si atrapaban a alguien,\\nel tipo iba a prisión sin problemas.\\nTodos mantenían el código de silencio.\\nHoy en día no hay valores.\\nLos hombres de hoy no tienen lugar\\npara la experiencia penal...\\n...y todos se vuelven testigos\\ndel gobierno.\\nMe siento exhausto sólo\\ncon hablar de ello.\\nBueno...\\n...con la farmacología de hoy\\nnadie tiene que sufrir...\\n...sentimientos de cansancio\\ny depresión.\\nAquí vamos con el Prozac.\\nMahaffey no tiene el dinero.\\n¿A qué te refieres?\\nMahaffey no tiene el dinero.\\n¿Cómo que no?\\nEl tipo no lo tiene.\\nLo atropellamos.\\nT en persona.\\nEl tipo no tiene cómo moverse.\\nEstá seco.\\nEntonces...\\n...supe que Junior quiere eliminar\\na Pussy Bompensiero.\\nA Pussy Malanga.\\nLittle Pussy.\\n¿Crees que joderá con Big Pussy?\\n¿Con mi Pussy?\\nAndrea.\\nLos tragos van por cuenta de la casa...\\ntoda la noche.\\nDisculpe, señor Dante.\\nDisculpe.\\nEntonces...\\n...tu tío resiente que seas el jefe.\\nLa tristeza paga interés.\\nTu tío estuvo resentido\\ntoda la vida.\\nPrimero contra tu padre,\\nsu hermano menor...\\n...porque lo hicieron miembro antes\\nque a él, y ahora contra ti.\\nEntonces claro, no puede soportar\\nque tú le digas qué hacer.\\nHesh, lo amo.\\nEn resumen, al hombre lo guían\\nsus inseguridades.\\nMe siento mal por haber sido\\nel mensajero.\\nTu amigo Artie,\\nel del restaurante...\\n...sácalo de la ciudad tres semanas.\\nDe ese modo, el restaurante cierra...\\n...y el asesinato debe ocurrir\\nen otro lugar.\\nCondenado judío. No sorprende\\nque mi padre te tuviera tantos años.\\n¿Qué tal los 250 de este judío\\nen los 100 de Mahaffey?\\nBueno, Mahaffey tiene un nuevo\\nsocio comercial tú.\\nLas prepagas pagan millones a\\nmédicos, hospitales, lo que fuere.\\nEsa resonancia que me hicieron\\ncuesta dolares 2.000.\\nLe daremos opciones a Mahaffey.\\nO su empresa empieza a pagar...\\n...nuestros reclamos falsos\\nen las clínicas que estableceremos...\\n...o le paga a Hesh los 250 mil\\nque le debe...\\n...que sabemos que no puede hacer...\\n...o habrá una tormenta\\nen Lyndhurst.\\nMuy inteligente.\\nPodría ser importante.\\nCasi tan bueno como la basura.\\nLa basura nos da de comer.\\nNos daba.\\nseñorita Meadow.\\nEntonces, Mead...\\nNo iré.\\nTodos los años, en esta fecha,\\ndesde que eras pequeñita...\\n...mamá y Meadow se arreglan...\\n...van al Hotel Plaza en Nueva York,\\na tomar el té bajo el retrato de Eloise.\\nMira. ¿Dónde están los tuyos?\\nTengo demasiada tarea.\\nEs nuestra tradición.\\nNos divertimos tanto siempre.\\nA decir verdad, me pareció tonto\\ndesde los ocho años.\\nSólo voy porque te gusta.\\nY aquí pensaba yo que era algo\\nque haríamos...\\n...después de que te casaras,\\ncon tus hijas.\\nCon suerte, entonces no estaré\\nviviendo aquí.\\nTienes correo.\\nMeadow, no puedes mentir, engañar\\ny romper las reglas que no te gustan.\\n¿Qué? ¿Quieres decirme algo?\\n¿Tienes idea de cuánto significa...\\n...ir a esquiar a Aspen?\\n¿Crees que pasará todos los años...\\n...como el estúpido té con scones\\nen el hotel Plaza?\\nAdiós.\\nCierra la puerta, por favor.\\nArtie.\\nBueno, dame una gota.\\nUna gota, no un chorro.\\nDespacio, una gota.\\nArtie, ¿cómo estás?\\nHola. Revuelve las albóndigas.\\nMe pregunto si puedes ayudarme.\\n¿Qué necesitas?\\nUn crucero en el Caribe,\\nen el SS Sagafjord, del 11 al 29.\\nTengo un par de boletos\\nque no puedo usar.\\n¿Puedes usarlos?\\n¿De dónde salieron?\\nCompensación.\\n¿Compensación?\\n¿Qué significa eso?\\nComo administrador de negocios...\\n...para el gremio de gastronómicos,\\nles administro el plan dental.\\n¿Me estás escuchando?\\nSí.\\nUn par de dentistas se unieron y me\\ndieron los boletos en agradecimiento.\\nEl problema es que no puedo ir.\\nToma.\\n¿Cuándo fueron tus últimas vacaciones?\\nAnthony, gracias.\\nDe acuerdo.\\nseñor Soprano.\\nNo puedes aceptar un regalo así\\nde Tony Soprano.\\nDe ningún modo.\\nEscucha, Charmaine si...\\n...tengo que volver a meterle la mano en\\nel trasero a una langosta sin parar...\\n...me voy a volver loco.\\nNi siquiera quiero hablar de ello.\\nArt, Melissa, es hora de ir a casa.\\nCariño, tienes que salir de vacaciones.\\nDebemos hacerlo,\\npor el matrimonio.\\nNo, ya es suficientemente malo\\nque estos mafiosos...\\n...sigan viniendo como clientes.\\n¿Y qué? No estamos conectados.\\nPorque rechazamos los boletos.\\nPero fueron una compensación.\\nTony es líder gremial.\\nArthur, por favor, madura.\\n¿Tu mente no se rebela\\nante un escenario...\\n...en el cual los dentistas envían\\nal Don de Nueva Jersey...\\n...en primera clase\\nen un buque noruego?\\nAlguien donó las rótulas\\npor esos boletos.\\nHerman, no hay modo\\nde que pueda subvertir...\\n...a mi maldita empresa.\\n¿Hacer que paguen reclamos\\npor resonancias que nunca ocurrieron?\\nEl papeleo parecerá real.\\n¿Cómo no me atraparán?\\nOdio oírte tirarte a menos.\\nEres un tipo inteligente.\\nEstoy deprimido.\\nEstoy tan deprimido que no puedo\\ncomer ni dormir.\\n¿Tomas Prozac?\\nZoloft, es similar.\\nSe supone que ayude con el juego.\\n¿En serio?\\nEsta nueva generación\\nde antidepresivos...\\n...supuestamente es útil\\ncontra las conductas compulsivas.\\nQué pena.\\nLa medicación llega...\\n...luego de que el juego hace\\nque te rompan la cadera.\\nTrato de no ser cínico.\\nTu deuda y el sentimiento que la rodea\\nes la fuente de tus problemas.\\nTú lo sabes y yo también.\\nLamento no haberte pagado, Herman.\\nLo sé.\\nNunca quise denigrar a Tony Soprano.\\n¿Quieres ir a caminar por las rocas?\\nCon las muletas no puedo...\\nVamos.\\nEs hermoso, te ayudaremos.\\nYo voy allí a pensar.\\nGracias, pero no.\\nProbémoslo.\\n¿Qué decías antes\\nde las resonancias magnéticas?\\nT.\\nDick te busca.\\nOye, Tony, llamaron\\nde Triborough Towers.\\nLos hermanos Kolar\\nretiraron su oferta.\\nQué bueno, qué bueno.\\nEscucha, a propósito,\\nArtie Bucco vino a verte.\\nMe voy, muchachos.\\nCuídate.\\nArtie. ¿Estás bien?\\nNo puedo.\\n¿De qué hablas?\\nLo hablamos, debes irte de la ciudad.\\nLo siento.\\nEsto es inaceptable.\\nTenía reservación para las 8:00\\ndesde hace dos semanas.\\nSeñor, como le expliqué,\\nla gente no deja sus mesas...\\n...y hay cinco clientes antes que usted\\n¿Qué le gustaría...?\\n¿Puedo ayudarlo?\\nLe di su merecido.\\n¿Por qué no vamos a comer\\na otro restaurante?\\nEstamos aquí.\\nseñor Soprano, ¿cómo está?\\nGiuseppe, ¿qué tal?\\nHola.\\nPor aquí.\\nCariñito, tengo hambre.\\nHola.\\nTony, ¿adónde vas?\\nHola, ¿cómo está?\\nBien.\\n¿Viene seguido?\\nCuando es posible.\\nEscuche, los consejos de decoración\\nque me dio funcionan muy bien.\\nBien.\\n¿Qué tal?\\nNils. Nils.\\n¿Sabes quién era?\\nObviamente sí.\\n¿Es un paciente?\\nSabes que no puedo decírtelo.\\nConsejos de decoración... sí, claro.\\nNils, cierra la boca.\\nseñor Borglund, le están preparando\\nsu mesa.\\n¿Quién era la mujer del restaurante?\\nMi decoradora.\\n¿Qué? ¿Redecoras el basurero?\\nQué cómica.\\nMejor no jodes con esa gorra.\\nMaldita sea, vamos.\\nEs la gorra de JFK.\\nLa compré en una subasta.\\nDámela.\\nIrina, Dios.\\nSé que hay algo más íntimo\\nentre tú y ella.\\nNada íntimo, sólo hablamos.\\nSí.\\nseñor Soprano, buona sera.\\nLlevo meses sin verlo,\\n¿dónde había estado?\\nseñora Carmela.\\nSabes, a veces la vida es buena.\\nLa vida a menudo es buena.\\nPor ejemplo, el verdadero Regaliali.\\nHas estado de buen ánimo\\nlos últimos días.\\nCarmela...\\n...tengo que confesarte algo.\\n¿Qué haces?\\nMe preparo para arrojarte el vino.\\nSiempre con el drama.\\nConfiesa ya y acaba con ello.\\nEstoy tomando Prozac.\\nDios mío.\\nHe estado yendo a terapia.\\nDios mío.\\nCreo que es genial,\\nque es maravilloso.\\nCreo que es tan valiente.\\nBueno, cálmate.\\nEs maravilloso.\\nUno creería que yo solía ser\\nHannibal Lecter.\\nEs que me parece genial.\\nLa psicología no se dirige al alma.\\nEs otra cosa, pero esto es\\nun comienzo. Ya me callo.\\nMe callo.\\nEres la única que lo sabe.\\nEl único motivo por el que te lo digo\\nes que eres mi esposa.\\nEres la única persona del planeta\\ncon quien soy totalmente honesto.\\nPor favor.\\nMaldición, es en serio. Si se entera...\\n...la persona equivocada, acabaré con\\nun antidepresivo de plomo en la nuca.\\nNo me di cuenta\\nde que eras tan infeliz.\\nNo lo sé. Mi madre...\\nLe dijiste de tu padre, ¿no?\\n¿A quién?\\nA tu terapeuta.\\nSí, sí, se lo dije.\\nBueno, pero tu madre es la causa.\\nNo sé, siento que últimamente\\nmi vida está fuera de equilibrio.\\nNuestra existencia en esta tierra\\nes un rompecabezas.\\nMi propia hija me odia.\\nNo te odia, Carm.\\nEramos las mejores amigas.\\nLas madres y sus hijas.\\nElla volverá a ti.\\n¿Hola?\\nDios, me comuniqué.\\n¿Qué pasa, no tienes vida social?\\nVete al carajo.\\nPapá.\\nTe traje mi primavera...\\n...es tu favorita.\\n¿Quién es?\\nChristopher.\\nNuestro amigo volvió.\\nLittle Pussy Malanga...\\n...a veces confundido con el otro\\nmafioso Big Pussy Bompensiero...\\n...acaba de regresar de Florida...\\n¿Entonces ocurrirá pronto?\\nNo te preocupes. Tengo el modo\\nde terminar con ello.\\nVamos, Meadow.\\nVamos, Halcones.\\n¿Y para cuándo lo necesitas?\\nEnseguida.\\nEso es, Meadow.\\nHermoso. Hermoso.\\nCreo poder arreglar\\nuna fiesta así.\\n¿Fuera de banda? Dio en ella.\\n¿Qué hace, refe?\\n¿Mamá no vino?\\nNo creyó que lo quisieras.\\nEl auto está allí.\\nHola, señor Dante.\\nHola.\\nNos vemos, Heather.\\nJugaron muy bien.\\n¿De dónde sacó ese remate\\nHeather Dante?\\nPapá, ¿no te parece injusto\\nlo que hace mamá?\\nAhora lo vuelve una escena\\nde película.\\nLa madre triste que no puede venir\\na los partidos de su hija.\\nPapá.\\n¿No crees que es un delirio?\\nMi viaje a Aspen.\\n¿En qué está pensando?\\n¿Papá?\\nLlevo años sin venir aquí.\\nPapá, por favor, háblale.\\nTe lo ruego.\\nEsto es tan estúpido.\\n¿Por qué estamos aquí sentados?\\nTu madre cree que tienes la capacidad\\nde ser una gran estudiante...\\n...y yo concuerdo con ella.\\n¿Qué quieren, perfección?\\n¿Qué estás mirando?\\nTu bisabuelo y su hermano, Frank...\\n...construyeron este lugar.\\nQué genial.\\nTalladores de piedra y mármol.\\nVinieron de Italia...\\n...y construyeron este lugar.\\nSí, claro. Dos tipos.\\nNo, eran dos tipos\\ny una cuadrilla de obreros.\\nEllos no la diseñaron...\\n...pero sabían cómo construirla.\\nBúscame ahora dos tipos que pueden\\nsellar bien una tina de baño.\\nEntonces me siento bien.\\nY no sé si necesitaré regresar.\\nNo es el Prozac.\\n¿Por qué no?\\nusted dijo que pensaba\\ncon más claridad...\\n...¿y su esposa dice que parece\\nestar mejor?\\nNo es la medicación.\\nEl Prozac necesita varias semanas...\\n...para reunir niveles efectivos\\nen la sangre.\\n¿Qué es, entonces?\\nVenir aquí a hablar.\\nLa esperanza llega en muchos modos.\\n¿Pero quién tiene tiempo para eso?\\n¿Qué es lo que quiere decirme?\\nAnoche soñé.\\nMi ombligo era...\\n...un tornillo de cabeza plana.\\nY lo desatornillaba...\\n...y cuando terminaba...\\n...se me caía el pene.\\nY lo levanté, y corría\\ncon él en la mano...\\n...buscando al tipo que solía trabajar\\nen mi auto Lincoln...\\n...cuando manejaba esos autos...\\npara que lo reinstalara.\\nY...\\n...lo tengo en la mano,\\ny un ave desciende...\\n...y lo agarra en su pico...\\n...y se lo lleva volando.\\n¿Qué tipo de pájaro?\\nNo lo sé, una gaviota o similar.\\n¿Un ave acuática?\\nVi las aves en cable la semana pasada.\\n¿Cree que plantaron la idea?\\n¿Qué otras aves son acuáticas?\\nEl pelícano. El flamenco.\\n¿Qué tal los patos?\\nEsos malditos patos.\\n¿Qué tienen esos patos\\nque significó tanto para usted?\\nEra un delirio tener a esas...\\n...criaturas salvajes que vinieron...\\n...a mi piscina a tener\\na sus bebitos.\\nMe entristeció que se fueran.\\nDios. Carajo.\\nAhora va a llorar.\\nCarajo. Qué mierda.\\nCuando los patos tuvieron...\\n...esos bebés,\\nse volvieron una familia.\\nTiene razón.\\nEse es el lazo, la conexión.\\nTemo que vaya a perder\\na mi familia...\\n...como perdí a los patos.\\nEso es lo que me llena de temor.\\nSiempre me acompaña.\\n¿Qué teme tanto que vaya a pasar?\\nNo lo sé.\\nUno trabaja tan duro.\\nTrabaja tan increíblemente duro.\\nY ver que el sueño de su vida...\\n...se queme.\\nMíralo de este modo.\\nCobrarás el seguro.\\nArthur, tienes que decirte\\nque pudo haber sido peor.\\nSí.\\n¿Cómo pudo haber sido peor?\\nUna maldita estufa defectuosa.\\n¿Supón que la gente dejara\\nde venir al restaurante?\\nNo lo sé.\\nNo sé un carajo.\\nEl tiene razón,\\nno hay seguro para eso.\\n¿Pero por qué dejarían de venir?\\nEstaba empezando a tener éxito.\\n¿Sabes de qué me di cuenta\\núltimamente?\\nHablar ayuda.\\nAsí es.\\nTiene razón.\\nLa esperanza llega en muchos modos.\\nAbsolutamente.\\nVamos.\\nCielos. Toma, sostén esto.\\nArtie.\\nArtie, vamos.\\nOye, oye.\\nMírame, mírame.\\nSiempre te ayudaré.\\nVamos. Vamos.\\nVe a cocinar. Déjenlo cocinar,\\nse sentirá mejor.\\nAlgún día le diré que incendiamos\\nsu restaurante...\\n...como la mejor solución.\\nSuficiente con esta mierda.\\n¿Qué te pasa?\\nSabes, un simple\\nAsí se hace, Chris...\\n...respecto al contrato de Triborough\\nTowers hubiera sido agradable.\\nTienes razón. Sí.\\nNo tengo defensa.\\nAsí me criaron, sin apoyo...\\n...sin cumplidos.\\nSabes, la novia de mi primo Gregory\\nes lo que llaman...\\n...chica de desarrollos en Hollywood.\\nDijo que podría vender la historia\\nde mi vida... hacer millones.\\nPero no lo hice, me quedé contigo\\nVen aquí. Podría matarte.\\n¿Qué harás?\\n¿Te convertirás en otro Henry Hill?\\n¿Sabes cuántos mafiosos\\nvenden guiones y lo arruinan todo?\\nElla dijo que hasta quizá podría\\ninterpretarme a mí mismo.\\n¿Sí?\\nSí.\\nOlvídate de los guiones de Hollywood.\\nOlvídate de esas distracciones.\\n¿Qué crees, que no tuve ofertas?\\nTienes trabajo que hacer\\nen nuevas avenidas.\\nTodo saldrá bien de ahora en más.\\nVamos.\\nMira, es un día hermoso.\\n¿Qué podría salir mal?\\nEs amable de tu parte recogerme\\npara la fiesta, Junior.\\nAl menos a alguien le importo.\\nEstos chicos de hoy en día.\\nSupongo que él cree...\\n...que una vez que me encierre en un\\ngeriátrico, moriré más rápidamente...\\n...y entonces no tendrá que llevarme\\na ningún lado.\\nSi su padre siguiera vivo...\\n...mostraría más decencia\\ny respeto por su madre.\\nMi hermano John era el mejor\\nde los hombres.\\nEra un santo.\\nComo sea, muchas cosas no son\\ncomo eran en mis tiempos.\\n¿A qué te refieres?\\nNo puedo hacer negocios a gusto.\\n¿No es horrible?\\nJustamente esta semana tu hijo\\nmetió mano...\\n...y me dificultó las cosas\\n100 veces más.\\nAdemás, desprecia a Nueva York.\\n¿Qué se le va a hacer?\\nEs parte de su generación.\\n¿Recuerdas los peinados alocados?\\nY las drogas.\\nAhora es maricas en el ejército.\\nBasta, Junior, me estás\\nalterando mucho.\\nNo me gusta hacerlo, Livia,\\npero estoy tensionado todo el tiempo.\\nTe diré algo más...\\n...las cosas se están cayendo\\npor todos lados.\\nMuchos de nuestros amigos\\nse están quejando.\\nSolíamos ser a prueba de recesión,\\npero ya no.\\nNo puedes echarle la culpa de todo\\na la secretaría de justicia.\\nNuestros amigos me dicen\\nJunior, ¿por qué no participas\\nmás en los asuntos?\\nLivia, quizá deba hacerse algo\\nrespecto a Tony.\\nNo lo sé.\\nAllí están.\\nHola, ma. Tío Jun.\\nEstás usando carbón de mezquita.\\nLe da un sabor raro a las salchichas.\\nHola, abuela.\\nFeliz cumpleaños, muchacho mío.\\nCarmela, llegó mi madre.\\nA comer todo el mundo.\\nJohn Gotti.\\nCadena perpetua.\\nSin posibilidad de libertad\\nbajo palabra.\\nHemos visto arrestos y juicios\\nen Florida...\\n...y en otros lugares\\nde importantes figuras de la mafia.\\n¿Qué haces?\\nVuelve a ponerlo.\\n¿Cuál es la situación actual\\nen la mafia...\\n...en la calle, en este momento?\\nConfusión, inestabilidad,\\nvacío en la cima.\\n¿Qué causó esa caída?\\nEl trasero de tu hermana.\\nUna política gubernamental agresiva\\nde 20 años para descabezar familias.\\n¿Pero no fue al menos en parte...\\n...debido a falta de atención\\na las reglas que sirvieran tan bien...\\n...a los antiguos jefes\\ndentro de la misma mafia?\\nEl sayo cayó.\\nSil, alégrame, cariño.\\nJusto cuando creí estar fuera,\\nvuelven a meterme adentro.\\n¿Es Pacino o no?\\nIgualito.\\nVincent Rizzo.\\nSí.\\nEx soldado de la familia Genovese...\\n...testigo del gobierno convertido\\nen autor de best sellers.\\n¿Concuerda con el procurador Braun?\\nLa fiesta se acabó.\\nEs un mafioso.\\nPor favor, díganos más.\\nNo es como era.\\nClonación.\\nLos mexicanos lo hacen mucho.\\nHay que admitir que es fascinante.\\nPorque trabajan como valets\\nde estacionamiento.\\n¿Digo que el crimen organizado\\nempacará voluntariamente...\\n...y emigrará como las aves?\\nVincent, no lo harán...\\n¿De qué hablas?\\nDe los mexicanos.\\n¿Qué hay con ellos?\\nCelulares.\\nNo hablo de clonar celulares.\\nDios, hablo de ovejas, de ciencias.\\nYo les digo a mis hijos\\nSólo Dios puede crear vida.\\nAlguien aquí pregunta ¿Y si hubieran\\nclonado a la princesa Di?\\n¿Pero el apogeo, la edad dorada\\no lo que fuere de la Mafia?\\nYa pasó y nunca regresará.\\nY sólo pueden culparse\\na sí mismos.\\n¿Le pagan a este cretino por palabra?\\nCreo que fue el tráfico de drogas...\\n...lo que arruinó las cosas. La condena\\nes de 35 años a perpetua obligatorios...\\n...y los tipos empezaron a delatarse\\npara evitar ser enjuiciados.\\n¿Qué pasa con eso\\nde la princesa Di?\\n¿Crees que la familia real\\nordenó que la mataran?\\nEs la última vez que tomo\\nuna maldita limosina en París.\\nJamás estuviste en París, Paulie.\\nFui por una mamada.\\nTu madre trabajaba el puesto\\nde bombones en la torre Eiffel.\\nSil, ¿oíste lo que le dije?\\nDije que había ido por una mamada.\\nTu madre trabajaba el puesto\\nde bombones en la torre Eiffel.\\nTengo una lista más larga que mi\\npierna a la que no querría clonada.\\nEl maldito alcalde de Nueva York tiene\\nmenos probabilidades de ser clonado.\\nEntonces, el código de silencio\\nu omertá...\\n...o como sea que se llame\\nse fue al diablo.\\nSiempre habrá crimen organizado,\\nsiempre.\\nEn tanto el ser humano tenga\\nciertos apetitos...\\n...por el juego, la pornografía\\no lo que fuere...\\n...siempre surgirá alguien\\nque sirva estas necesidades. Siempre.\\nJusto cuando creí estar fuera,\\nvuelven a meterme adentro.\\n¿Llevas reproductores de DVDs?\\nNo me lastimen.\\nLos únicos lastimados son\\nlos que tratan de ser listos.\\n¿De acuerdo? Bájate despacito.\\nVamos. Muévete.\\nVamos, tiene los\\nreproductores de DVD.\\nRapidito. Nadie quiere lastimarte.\\nBueno, pero tienen que atarme.\\n¿Vas a hacerte el listo?\\nMi jefe creerá que soy parte de esto.\\n¿Qué? ¿Parecemos exploradores?\\n¿Viajamos con soga?\\nYo tengo soga. Necesito el empleo.\\nDios santo, agarra la soga.\\nNo sé quién entregó la ruta...\\n...pero no hay modo de que salga ileso\\nsin que me despidan.\\n¿Quieres que te lastimemos?\\nSí, para que parezca...\\n...que ofrecí resistencia.\\nGenial. Gracias, viejo.\\nEs suficiente.\\nNo, espera.\\nGenial. Es genial.\\n¿Lastimado? Lastimado.\\nLastimado.\\nA mi maestro de ciencias, el señor Miller,\\nle robaron el auto.\\n¿Bromeas? ¿De dónde?\\n¿De su casa?\\nDe su espacio de estacionamiento\\nen la escuela.\\nUn Saturn. Lo tenía\\ndesde hacía sólo un año.\\nLa seguridad en tu escuela\\nes una broma.\\n¿Oíste lo que dijo Anthony hijo?\\nLe robaron el auto al señor Miller.\\nRefréscame la memoria.\\n¿Quién es él?\\nEl maestro de ciencias de tu hijo.\\nEstás levantado temprano, papá.\\nY compró ese auto un año atrás.\\n¿Y? Se lo pagará el seguro.\\nSí, pero no todo su valor.\\nEstos pobres maestros\\nno ganan mucho.\\nPero puede trabajar en verano.\\nSí.\\nQuizá podrías ayudar a hallarlo.\\nQué divertido.\\nCreí haberte dicho que cambié mi\\nnombre de Lo Jack a Anthony Soprano.\\nQué risa, creí que me haría encima.\\nEn serio, Pussy tiene el taller.\\nQuizá podría preguntar.\\nLlego tarde.\\n¿Qué nota tienes en ciencias?\\nsuspendido.\\nVeré qué puedo hacer.\\nNo me refería a eso.\\nTiene que trabajar por sus notas.\\nVolveré a la cama.\\nAdiós, papá.\\nNos vemos luego.\\nTen, come esto.\\nLlegó la tecnología al Bing.\\nOye, Christopher,\\n¿adónde has estado?\\nVamos. Vamos.\\nAndando.\\nHola. ¿Llegó la carga?\\nSí.\\nGeorgie, si llama un tal Serge,\\ndile que volveré enseguida.\\nTon, este nuevo sistema telefónico...\\nespera, conferencia...\\n...a veces me confundo.\\n¿Qué tan complicado puede ser?\\nAtiendes el teléfono y tomas\\nun mensaje.\\nEl contestador sólo sale si lo dejas\\nsonar. Dios santo, Georgie.\\nNo hay tantos títulos como en láser.\\nPero van a salir más.\\nMi médico dice que la imagen\\nno difiere del láser, Ton.\\n¿Pero el sonido?\\nMuy mejorado.\\nBien. Porque no hay nada mejor...\\n...que hacer palomitas y escuchar\\nHombres de Negro.\\nBueno. Al carajo.\\nNo, no, son los cables, es todo.\\nMe alegrará conectártelo, Ton.\\nYo solía ser instalador.\\n¿Por qué no eres bueno con Brendan?\\nYa lo discutimos.\\nTon, justo iba a buscarte.\\nEs el tipo... para ti.\\n¿Serge? La tomaré aquí.\\n¿Serge?\\nCuando transfieres un llamado,\\npresionas espera.\\nLo siento, Tony.\\nAhora no llamará de nuevo.\\nBrend es bueno. Fue plan suyo.\\nSí, es buen chico, pero no me gusta\\neso de la metanfetamina.\\nCarajo. Debo llamar\\na mi madre.\\n¿Hola?\\n¿Hola? ¿Ma?\\nMira quién llama.\\n¿Cómo estás?\\nMe preguntaba cuándo llamarías.\\nPues ya puedes dejar de hacerlo.\\nAquí estoy, llamándote.\\nTe llamé ayer, ¿recuerdas?\\nSe suponía que me llamaras.\\nLlamé a tu casa, y atendió\\nuna operadora.\\nNo le entendí ni una palabra.\\nMa, ¿cuántas veces debo decírtelo?\\nNo es una operadora.\\nEs un contestador automático.\\nQué especial.\\nEspera, déjame apagar\\nlos hongos.\\nTú y mi madre son tal para cual.\\nElla tampoco sabe usar el teléfono,\\npero tiene 70. ¿Cuál es tu excusa?\\n¿Qué hace ahora?\\nDios mío.\\nDios mío.\\nMa.\\nOye, ma.\\nDios mío.\\n¿Ma?\\n¿Dónde diablos está?\\n¿Quién habla?\\nAnthony.\\nLos hongos... se incendian.\\nBien, ma. Usa el extinguidor debajo\\ndel fregadero que yo te di.\\nAgárralo.\\nDios mío, la pared está negra.\\nBueno, ma, cuelga y llama al 911.\\nTon, el tipo está en la segunda línea.\\n¿No vas a venir?\\nOprime espera, maldita sea.\\nEscucha, ma, no puedo ir.\\nEstoy a 40 minutos de allí.\\nCuelga, llama al 911\\ny sal de la casa.\\nMira cómo vivo.\\nMa, cuelga y llama al 911.\\n¿Hola?\\nCarmela, se incendia\\nla cocina de mamá.\\nDios mío.\\nLlamará al 911. ¿Puedes ir?\\nSí, voy para allá.\\nGracias, nena. Sé que estás ocupada.\\nSerge. ¿Serge? Escucha.\\nNo puedo hablar contigo ahora.\\nDebo ir a una línea externa.\\nDame tu número.\\nBueno, bueno.\\nYa te llamo.\\n¿Tu mamá está bien?\\nEsto no puede seguir así.\\nHola, T. Oye... este maestro\\nal que le robaron el auto...\\n¿Tienes el número de licencia?\\nLlama a mi esposa.\\nQue tenga buen día, señora.\\nGracias, muchachos.\\nNingún problema.\\nMa...\\n...ojalá me dejara traerle a alguien\\npara ayudarla.\\nNo debería estar sola.\\n¿Ayudarme con qué?\\nCon el trabajo de la casa.\\nYo tengo mis costumbres.\\nA una desconocida no podría\\nimportarle hacerlo bien.\\n¿Puedo decirle algo, ma?\\nNecesita compañía.\\nNo empieces de nuevo con eso\\ndel geriátrico.\\nNo es un geriátrico,\\nes una comunidad de retiro.\\n¿Quiere que le haga una pastita,\\nasí tiene algo en el estómago?\\nMa, se lo dije a Tony...\\n...y a usted muchas veces.\\nSiempre puede venir a vivir a casa.\\nSé cuando no me quieren.\\nAcabo de invitarla a venir a vivir\\nen casa. Es distinto a que le ruegue.\\n¿Dejar este lugar...\\n...que mi esposo y yo compartiéramos?\\nEl cambio puede ser positivo.\\nEra un santo.\\n¿Sigue con los berrinches\\nese hijo mío?\\nNo son berrinches, ma,\\nson ataques de ansiedad.\\nLo tienen medicado.\\n¿Por qué nos cobra BMW por la pintura?\\nSiempre lo mismo.\\nEs así desde hace seis meses.\\n¿Cuándo vine por última vez?\\nOye...\\n...quizá tuvimos suerte, jefe.\\nUn taller de la avenida Watchung\\ndijo que un tipo...\\n...había traído un Saturn con esta\\nplaca, buscaba vender las partes.\\n¿Les dices que este auto es\\npara Tony Soprano y que no lo toquen?\\nSí, claro, para el maestro del chico.\\nMis hombres dijeron que uno\\nde los idiotas tenía uniforme...\\n...de... Buttfucks.\\nComo sea, el negocio de café.\\nSupongo que el tipo trabaja allí.\\n¿En avenida Watchung y qué?\\nParezco Rockford.\\nCapuchino prima descafeinado,\\nmagnífico, espresso doble.\\nYo puedo atenderlo, señor.\\nCreo que tomaré un espresso.\\nPaulie, ¿quieres algo?\\n¿Tienen café común?\\nEl café del día es peaberry\\nde Nueva Zelandia.\\nLo que sea.\\nSon dolares 4.20, los recogen allí.\\nUno del día mediano...\\n...un espresso regular.\\nSí. Guárdatelo.\\nDel día, espresso, enseguida.\\nQuerida, permíteme preguntarte.\\nMi esposa estaba en el taller\\nde avenida Watchung el otro día.\\nEl tipo que la precedía se fue\\ny ella vio que se le había caído...\\n...su dinero, pero él ya no estaba...\\n...y querríamos devolvérselo.\\nElla dijo que usaba un uniforme\\ncomo ése...\\n...con cabello bien negro, me dijo,\\nalto y con arete.\\nDisculpe, hay muchos cafés similares.\\nDímelo a mí.\\nMalditos italianos.\\n¿Cómo se nos escapó esto?\\n¿Qué?\\nEl maldito expreso, capuchino.\\nNosotros lo inventamos, y todos estos\\nchupavergas se enriquecen.\\nSí, ¿no es increíble?\\nNo es sólo el dinero, es el orgullo.\\nToda nuestra comida.\\nLa pizza, el calzone...\\n...la muzzarella de búfalo,\\nel aceite de oliva.\\nEstos putos no tenían nada.\\nComían mierda antes de tener\\nnuestra cocina.\\nPero esto es lo peor, lo del expreso.\\nCálmate.\\nY finalmente aceptó tener a alguien\\nque venga de día.\\nCarmela llamó a una agencia,\\ny enviaron a una mujer de Trinidad.\\nNo importa lo que haga,\\nme siento culpable.\\n¿Por qué?\\nLa verdadera razón es que sé que\\nno puedo dejarla vivir con nosotros.\\nEso no parece muy práctico,\\ndada su personalidad.\\nEs mi esposa.\\nNo lo permite.\\n¿Y dónde están sus hermanas?\\nTerminaron con ella hace mucho.\\nNo hay modo de que viva con ellas.\\nEntonces usted carga toda esta culpa\\ncuando su madre claramente es...\\n...alguien con gran dificultad para\\nmantener relaciones con la gente.\\nPero es mi madre. Se supone\\nque uno cuide de su madre.\\nEs una ancianita.\\nPara usted no. Es muy poderosa.\\nMentira.\\nusted le otorga a esta ancianita...\\n...una capacidad casi mística\\npara causar problemas.\\nDéjeme decirle algo. Definitivamente\\nno quiere que empiece.\\nHay personas que...\\n...no son candidatos ideales\\npara ser padres.\\nVamos, es una dulce viejita.\\n¿Cuál fue una buena experiencia\\nque recuerde de su niñez?\\nDe las cariñosas y cálidas.\\nUna vez estábamos en la playa...\\n...como en el 68 ó 69,\\ntoda la familia.\\nMi padre tropezó y rodó\\npor las escaleras y todos nos reímos.\\nToda la familia se reía.\\nMi madre también.\\n¿Alguna otra experiencia cariñosa?\\nOiga, es una buena mujer.\\nPonía comida sobre la mesa\\ntodas las noches.\\nYo soy el maldito desgraciado\\nporque vengo a quejarme de ella...\\n...y dejo que mi esposa la excluya\\nde mi casa.\\nHola, ¿ma?\\n¿Eres Perrilyn?\\nSí.\\nTony Soprano.\\n¿Cómo estás?\\nBien, gracias.\\nOlivia, llegó su hijo.\\n¿No es apuesto?\\nY mire lo que le trajo.\\nEscucha,\\ndejemos algo en claro.\\nEn las horas en que cuidas a mi madre,\\nnada de ganja, ¿de acuerdo?\\nOye, ma.\\nNo estoy muerta, desafortunadamente\\npara algunos.\\nLas largas son delphinium.\\nSabes, cuando Frankie Valli\\nvisita Jersey...\\n...usa este florista.\\n¿No son hermosas? ¿Quiere que\\nlas ponga en la mesa del comedor?\\nAsegúrate de que el fondo del florero\\nno está mojado.\\nseñor Tony, ¿quiere té o algo así?\\nCoca. Gracias.\\n¿Cómo estás hoy?\\nEstá robando.\\n¿Quién?\\nEsa negra sucia, quién.\\nEl plato hermoso que tía Settimia\\nse llevó del restaurante el Roma...\\n...desapareció.\\nNo sé, ma, parece buena persona.\\nNo me engaña ni por un segundo.\\n¿Seguro que lo robó ella?\\n¿No se lo habrías dado\\na alguno de tus parientes?\\nNo dejas de regalar tus cosas,\\npensando que vas a morir.\\nOjalá fuera mañana.\\nY también es tan lanzada.\\n¿Quién se cree que es?\\nEstá contenta, ma. Canta.\\nAnthony, no la quiero aquí.\\nDe algún modo puedo arreglarme.\\nNo, no, esta vez no te haré caso.\\nSe queda.\\nTu tío llamó buscándote.\\n¿Tío Jun?\\nSonaba agitado.\\nJackie, eres el jefe. Diles que dejen\\nen paz a los camiones Comley.\\nNo sabía que era un camión\\nde Comley.\\nDurante 21 años, Comley me puso\\ncomida en la mesa. Pagó protección.\\nChris no lo sabía cuando lo hizo.\\nMentira.\\n¿Quieres mi reproductor de DVDs?\\nPuedes ver Ancianos Cascarrabias.\\n¿Ahora también serás cómico?\\nOigan, Uds. son Soprano.\\nPero Jackie, uno espera arreglar\\ncosas con su tío...\\n...entre los dos, y no ser invitado\\na una maldita junta.\\nTienes chiricahuas trabajando\\npara ti. No los controlas.\\nAquí vamos.\\nJackie, ¿tienes una regla?\\nLos que robaron el camión le pagarán\\nrestitución a Junior.\\nHecho. Está hecho.\\nChristopher Moltisanti es un maldito\\nchiflado, y el tal Filone\\n¿Para esto levantas a un enfermo?\\nAl carajo con eso.\\nGiacobbe, ¿cómo te sientes?\\nQuizá fui jefe interino mientras el\\nviejo era huésped del gobierno...\\n...pero ojalá alguien se lo hubiera dijo\\na mis intestinos, pues no obedecen.\\nLa maldita quimio.\\nQuizá debería nombrar un sucesor.\\n¿En estos tiempos?\\n¿Quién quiere el maldito trabajo?\\nTu madre me dice que haces ir\\na una chica a que la ayude.\\nQué bueno.\\nBien, debo irme.\\nNos vemos pronto.\\nDe acuerdo.\\n¿Todo bien? Bien.\\nContrata a una oscura para cuidar\\na su propia madre.\\nHola, Mikey, ¿qué tal el muchacho?\\n¿Cuál muchacho, Ton?\\nCon el que duermes.\\nSólo bromeo.\\n¿Cómo estás?\\nBien.\\n¿Cómo te trata mi tío?\\nNos cubrimos.\\n¿Tu sobrino es retardado?\\n¿Le gusta jugar con camiones?\\n¿Retardado?\\n¿Y si te escucha Jerry Lewis?\\nEso es distrofia muscular.\\nQué pena que no tengan teletón\\npara caradeculitis, ¿no?\\n¿Ya hallaron una cura?\\nVamos, sólo bromeaba contigo.\\nVamos, eres buen tipo.\\nVamos, de acuerdo.\\n¿Estás bien? ¿Bien?\\nSí, estoy bien.\\n¿Estás bien? Sí. Nos vemos.\\nSí.\\nDoble capuchino supremo.\\nDoble capuchino supremo.\\nGracias.\\nLatte descremado grande.\\nUn tipo que encaja con la descripción\\ntrabaja en este café.\\nSe llama Eduardo Arnaz.\\nTrabaja aquí con su amante gay...\\n...y tengo la dirección.\\nPaulie, ¿me escuchas?\\nSí.\\nDe nuevo con la violación de la cultura.\\n¿Podemos ir a hallar a las Spice Girls\\ny terminar con esto?\\nDos cafés del día chicos.\\nUno con leche.\\n¿Qué...?\\nSe acabó.\\n¿Qué pasó?\\nNo tengo idea.\\n¿Le dijo algo?\\nSé cómo hablarle a la gente.\\nPero estos negros...\\n¿Quién sabe qué tomarán a mal?\\nAsí que se fue.\\nEl tráfico y el tiempo juntos\\neste martes en la mañana.\\nAquí está Heather en el helicóptero.\\nEn el lado oeste...\\n...otra vez hay demoras\\nen el túnel Lincoln...\\nUna demora de 25 minutos\\nsi se acercan a la ruta 3.\\nLa línea empieza\\nantes del viaducto Bergen.\\nAyer recibiste tus órdenes.\\n¿Por qué no le pagaste?\\nLa restitución está bien,\\n¿pero sabes cuánto quiere tu tío?\\n15 dólares.\\nRobas el camión equivocado. Eso pasa.\\nNo vi que te apuraras a devolver\\ntu maldito reproductor de DVD.\\nA decir verdad, lo disfruto mucho.\\nAnoche vi la del policía bancario.\\n¿Hablaste, mi pequeña Wren?\\nNo le pagaré.\\n¿Sí?\\nEn serio.\\nNo, serio es lo que pasa si no pagas...\\na mis manos.\\nEn mis pensamientos uso la técnica\\nde visualización positiva.\\n¿Cómo es que siempre\\nme siento socavado?\\nSólo con lo que hice sobre la situación\\nde las torres de Triborough...\\n...debieron haberme iniciado\\nde inmediato.\\nNo, lo digo en serio, Tony.\\nLos libros están cerrados.\\n¿Hablaste de mí con Jackie?\\nNo aceptan miembros nuevos,\\n¿de acuerdo?\\nSabes, tienes reputación\\nde inmaduro y no...\\n...mejorará al no pagarle los tributos\\nque el jefe interino demanda de ti.\\nJefe interino un cuerno, Ton.\\nVamos, todos saben...\\n...que tú mandas realmente\\ndesde que Jackie se volvió Kimosabi.\\nAbre la maldita puerta. Abrela.\\n¿Qué carajo?\\nBueno, bueno.\\nAl carajo.\\nPero 15 mil es demasiado.\\nHagamos esto.\\nDame los 15 mil, yo hablaré con tío Jun\\npersonalmente y quizá lo rebaje a 10.\\nAlgo más. Deja a los camiones\\nde Comley...\\n...y a cualquier otra maldita cosa\\nen el planeta de mi tío Junior...\\n...incluyendo su almohadón para\\nhemorroides, absolutamente en paz.\\n¿Entendiste?\\nSí.\\n¿Hablaste, mi pequeña Wren?\\n¿Cuánto será su comisión?\\nDos o tres mil.\\n10 para Junior. Si tenemos suerte,\\nnos quedan 500 de todo el resto.\\n¿Quién es?\\n¿Qué?\\n¿señor Arnaz?\\n¿Qué quiere?\\n¿Vio el Saturn de un maestro\\npor aquí?\\nVen aquí.\\n¿Hay alguien más aquí, Desi?\\nEddie, estoy listo.\\nSí. Aquí viene Lucy.\\nLa gente del transporte al aeropuerto\\nsiempre llega tarde.\\nEddie.\\nUds. se llevaron el auto equivocado.\\nDios bendito.\\nNo diremos nada\\nhasta tener abogado.\\nAdelante, dame tu declaración.\\nAquí tengo a Johnnie Cochran\\npara ti.\\nREPARACIONES DE AUTO CHAPISTA\\nUds. me han jodido la semana.\\nVen aquí.\\nOye, Puss, aquí está.\\nMira.\\nLo desarmaron. Ya no sirve.\\nNo es ése.\\n¿Ven ese auto allí dentro? ¿El Dodge?\\n¿Por qué ese maldito auto tiene la\\nlicencia que pasé la semana cargando?\\nNo lo sé.\\nDéjame decirte qué ocurrirá.\\nUds. dos escalarán esa cerca\\ny sacarán esas placas.\\nPero el alambre de púas...\\nLuego uno de Uds. se quedará aquí...\\n...mientras el otro roba otro Saturn\\nde la calle.\\n¿Buscas patos, papá?\\nConoces bien a tu viejo, ¿no?\\nNo te veas tan triste.\\nEran bonitos...\\n...¿pero recuerdas lo furioso que\\nte pusiste por el filtro de la piscina?\\nSu visita fue especial, ¿no crees?\\nRealmente no me interesaba.\\n¿A qué hora llegará tu abuela?\\nTenía que llevar a Fanny al médico.\\nLuego recogería a mis padres,\\ny vendrían para aquí.\\nTodos traerán antipasto.\\nSabes, siempre me quejo\\nde mi madre...\\n...de cómo se queda en casa,\\nteniéndose lástima...\\n...pero siempre les da aventones\\na sus amigas viejas...\\n...las que ya no pueden manejar.\\nEstoy orgulloso de ella,\\nme da esperanza.\\nEstá haciendo frío.\\nHaz mucho ruido\\nantes de abrir la puerta...\\n...nunca sabes quién está ahí.\\nAllí está mi periódico.\\nGracias.\\nEsta calle es otra molestia.\\nSe rompió la muñeca con el volante\\ny tiene una concusión menor.\\n¿Y la otra mujer?\\nLa cadera.\\nEstuvimos en el hospital\\nhasta las 2:00 de la mañana...\\n...hablando con su médico...\\n...y el gerontólogo en jefe.\\nDicen que ya no debería vivir sola.\\nNo puede usar el teléfono.\\nY sin embargo usted dice\\nque está saludable y alerta.\\nComo un toro.\\n¿Por qué?\\nSólo pensaba, y sé que hay\\notros médicos allí...\\n...pero usted sabe\\npor experiencia propia...\\n...que la depresión\\npuede causar accidentes...\\n...mal desempeño o cosas peores.\\n¿Y qué dice? ¿Que inconscientemente\\ntrató de matar a su mejor amiga?\\nEs interesante que llegara\\na esa conclusión de lo que dije.\\nComo sea...\\n...le beneficiaría un cambio en su modo\\nde vida, estar con más gente.\\nEstábamos considerando Green Grove.\\nEs un lugar hermoso,\\nmuy similar a un hotel...\\n...en Cap DAntibes.\\nSí...\\n...pero para ella es un geriátrico.\\nPues hay que hacerle ver\\nla diferencia...\\n...que de hecho se embarca\\nen una etapa muy enriquecedora.\\nConozco a ancianos que inspiran\\ny son inspirados.\\nNo te olvidas de nosotros,\\n¿no, amigo?\\n¿Chicas?\\n¿Y nosotros?\\nOye, Kenny Portugal\\nte manda saludos.\\nSí. Kenny.\\n¿Qué carajo le pasa a este puto?\\nAtrás.\\nAtrás. señor Scorsese,\\nbuenas noches.\\nMarty. Me gustó Kundun.\\nEntonces, mi amigo en Comley...\\n...dijo que hay una carga\\nde trajes italianos.\\nEsos se van rápido.\\nMario aceptará toda la carga.\\nDijo que el embarque se mueve\\nel jueves a las 6:00de la mañana.\\nDame un buen motivo para no robarlo.\\nNo te sientas mal.\\nEs culpa de Junior. No nos da\\nmás opción que hacerlo de nuevo.\\nSe llevó ese increíble tributo.\\nNo sólo nos caga en la cabeza...\\n...se supone que le agradezcamos\\nla gorra.\\nNo voy a ningún lado siguiendo\\nlas reglas. Que se muera Tony.\\nLos libros están cerrados. Muérete.\\nNo, eso es de verdad.\\n¿Y no confirman a los nuevos?\\n¿Cómo puede ser?\\nEs un caos. Nadie sabe\\nquién dirige las cosas.\\nAlgunos ni siquiera saben\\na quién pagarle en la jerarquía.\\nHablo del año 2000,\\nel nuevo milenio.\\n¿Adónde vamos desde aquí?\\nMa, este jamón de Virginia...\\nAnda, sírvete más.\\nNo, estoy lleno.\\nPero está excelente.\\nNunca me dejas alimentarte.\\nVolviendo a lo que hablábamos...\\n¿Quieres esa lámpara?\\nMa, recuéstate.\\nEsa lámpara... es Ormolu legítimo.\\n¿Sabes lo que cuesta nueva?\\nEstamos bien con las lámparas.\\nTómala, y toma el sillón.\\nAlguien tiene que llevarse...\\nestas cosas antes de que muera.\\nDe lo contrario, habrá muchísimas\\ncosas aquí...\\n...que el basurero deberá llevarse.\\nMa, no te morirás, ni llevarán\\ntus cosas al basurero...\\n...pero debes empezar a planear\\ntu futuro.\\nEmpieza la etapa más enriquecedora\\nde tu vida.\\n¿Recuerdas mis joyas buenas?\\n¿Las que te dio papá?\\nSí, algunas vinieron\\nde la vidriera de Cartier, ¿no?\\nEscucha, Carm no las quiere.\\nAhora no.\\nLo que ambos queremos\\nes que vivas mucho tiempo...\\n...y uses tus joyas\\nen la graduación de tus nietos.\\nSe las regalé todas\\na tu prima Josephine.\\n¿Qué carajo? ¿Las joyas buenas?\\nSiempre las admiró.\\nNo tienen mucho dinero.\\n¿Le diste a una prima anillos de Cartier\\ny a mí, una silla vibratoria?\\nTu esposa jamás mostró interés\\nen mis joyas.\\nJamás las elogió, que yo recuerde.\\nEscúchame bien. Antes de que causes\\ndaños más serios...\\n...a tu persona o a la herencia\\nde tus nietos, dejarás de vivir sola.\\nNo iré a ese geriátrico.\\nGreen Grove es\\nuna comunidad de retiro...\\n...parece un hotel en Cap DAntibes.\\n¿Quién es él?\\nUn capitán que tiene hoteles de lujo.\\nNo lo sé, no es el tema. El tema es\\nque hablé con la señora DiCaprio.\\nTiene una suite en la esquina con vista\\nal bosque disponible. Se irá pronto.\\nClaro que está disponible.\\nAlguien murió.\\nMa, tienes que terminar.\\nTermina con esto...\\n...esta nube de veneno negro permanente,\\nporque ya no lo aguanto.\\nPobrecito.\\nSabes, tengo problemas en el trabajo,\\ntengo problemas en casa.\\nTengo un amigo al que\\ndiagnosticaron con cáncer.\\nMuchos padres les agradecerían a sus\\nhijos yuppies por ser tan considerados.\\nNo iré a ese lugar.\\nEntonces iré a la corte...\\n...y conseguiré un poder permanente\\nsobre ti y te meteré allá.\\nEntonces mátame ahora.\\nAnda. Ve. Ve al jamón...\\n...trae el cuchillo y apuñálame\\nahora mismo.\\nAquí. Ahora. Por favor.\\nMe dolería menos que lo que acabas\\nde decirme.\\nSabes, conozco a ancianos\\nque se inspiran.\\nOye, dijimos que nos veríamos afuera.\\nNi siquiera estás vestido.\\nVoy a pasar.\\n¿Qué?\\nSon trajes italianos, Christopher.\\nUna vez en mi vida sólo soñaba\\ncon estar en la banda de Tony Soprano.\\n¿Y qué hago?\\nEs un dinero.\\nNo la despiertes.\\nVamos, son las 5:15.\\nQuizá la razón por la que las cosas\\nestán tan jodidas en la organización...\\n...son los tipos que andan solos,\\ny no escuchan a los de nivel medio.\\nQue se muera Tony. Y cítame.\\nDebemos estar unidos.\\n¿Por qué estar en una banda?\\n¿Por qué ser gángster?\\nOye, genio, mámame la verga.\\nOye. Oye, necesitamos ayuda.\\nBien, calmémonos.\\nSal de la cabina.\\nYa oíste al hijo de perra.\\nApúrate.\\nOye, cálmate, soy amigo de Billy,\\n¿la conexión interna?\\n¿Sí? Genial. Ningún problema.\\nNuestro lema es aumentar la paz.\\nMe llevaré el almuerzo, ¿sí?\\nLo que sea. Vamos.\\nUn momento, tú no puedes\\nmanejar un camión.\\n¿Qué onda con el arma apuntada\\nde costado?\\nSal. Vamos.\\nAbajo.\\nManeja tú, te dirigiré.\\nDios.\\nControla tus cosas, tonto.\\nCarajo. Carajo.\\nCarajo.\\nCarajo.\\nCarajo. Junior Soprano enloquecerá.\\nCarajo.\\n¿La emociona venir a vivir\\ncon nosotros, querida?\\nLo estará. Créame.\\nMire, ma, llegaron sus cosas.\\nHicieron buen tiempo.\\nSí.\\nTendrá su propia cama y su cómoda.\\nSabe, cuando mi abuela fue a vivir...\\nen otro lado...\\n...no se le permitió traer cosas\\npersonales.\\nMa, tienes que firmar aquí.\\n¿Sí?\\nseñor Soprano, ¿tiene un tío Junior?\\n¿Me buscó hasta aquí?\\n¿Línea dos? Aquí tiene.\\nDígale que lo llamaré.\\nLo llamará.\\n¿Sí? Aparentemente es urgente.\\nDijo que sonaba alterado.\\nLo llamará luego.\\nLivia, ¿alguna vez oyó\\nel antiguo dicho italiano...\\n...que mi tía solía decir?\\n¿Qué significa, Bonnie?\\nEl tiempo y la paciencia...\\n...vuelven seda la hoja de la mora.\\n¿Vas a estar bien?\\nSí, claro.\\nGracias por toda su ayuda.\\nIré a prepararnos un buen almuerzo.\\nTengo un prosciutto fantástico.\\n¿Hola? Sí.\\nHabla Christopher.\\n¿Sí?\\nDios, llevo horas llamándote.\\nLlámame en una línea externa.\\nT, no te enojes.\\nHubo un problema, yo no tuve\\nnada que ver para que\\nEscúpelo.\\nBrendan volvió a asaltar a Comley.\\n¿Que qué?\\nY, el chofer, ya sabes...\\nNo, no sé.\\nLe dispararon accidentalmente y murió.\\nCarajo.\\n¿Qué hacemos, T?\\nBrendan no vendió la carga, pues cree\\nque Mario nos delató con Junior.\\nCarajo.\\nHola, Ton. Lamento tener\\nque arruinarte así el sábado.\\nMuchachos.\\nSe los diré.\\nPero son cosas hermosas.\\nTon, lo siento tanto.\\nCállate.\\nEn tanto sepas que no tuve que ver.\\nTon, es verdad, se quedó en casa\\nCállate.\\n¿Te quedaste en casa?\\n¿Hiciste algo para evitarlo?\\n¿Le ofreciste consejos?\\n¿A qué nos referimos\\ncuando decimos liderazgo?\\nTon, en parte es la droga, pero iré\\na rehabilitación, lo juro por mi madre.\\nBrendan, cierra el culo.\\n¿Quieres que me maten?\\n¿Qué haremos?\\nLo que harán es tomar estos trajes...\\n...cargarlos de nuevo al camión,\\nirán a Comley y los devolverán.\\nCarajo.\\nY luego llamarán a mi tío...\\n...y le avisarán cuando lo hayan hecho.\\n¿Y el muerto?\\nSigan tocándolo con un palo.\\nPréndanle una vela a San Antonio,\\npero creo que están jodidos.\\nTon, ¿y si éste no volviera?\\n¿Sería un problema?\\nSaben, imbéciles, no los veo\\ndevolviendo ese perchero...\\n...y ése y ese otro\\nde nuevo en el camión.\\nJusto cuando creí estar fuera,\\nvuelven a meterme adentro.\\nVaya, señor Miller, su auto regresó.\\nMi esposa me trajo esta mañana,\\ny allí estaba, en mi estacionamiento.\\nMi tío Pussy ayudó a papá a hallarlo.\\n¿Tu tío Pussy?\\nSí, trabaja con autos.\\nNo sé qué decirle a tu papá.\\nAdemás de gracias, claro.\\nY está limpito.\\nOtras llaves.\\nProbablemente es demasiado pedir\\nque mis papeles sigan en la cajuela.\\nEs de otro color.\\nMi papá es un héroe.\\n¿Volvió a perder el conocimiento,\\ncomo con los patos?\\nSólo... me faltó el aire...\\n...y veía puntos blancos.\\nUna mejora.\\n¿La tristeza por encerrar a mi madre?\\nEstar triste es bueno.\\nEstar inconsciente, no.\\nEstará en muy buenas manos,\\nhizo lo mejor para ella.\\nNo me habla.\\nQué triste, ¿pero quién lo elige?\\nDe algún modo eso\\nno mejora las cosas.\\n¿Puede admitir que sí,\\nestá triste...\\n...pero que está muy enojado\\ny lleno de ira?\\nEstoy triste.\\nCuesta admitir que pueda...\\n...sentir odio hacia su propia\\nmadre, ¿verdad?\\nEstá chiflada.\\nEscúcheme con cuidado.\\nPor supuesto que la quiere.\\nSólo trato de decir que asuma\\nla ira en vez de desplazarla.\\nDe lo contrario, define su vida.\\nSabe...\\nDebe reconocerlo.\\nQué bueno que se acabó el tiempo.\\nYa no quiero hablar con usted\\nOdia a su madre.\\nCarajo.\\nUn... ¿cómo se llama?\\nMenú.\\nOprima el dos si conoce\\nla extensión que quiere.\\n¿Es una operadora\\no una contestadora?\\nVeamos. ¿Hola?\\n¿Hola?\\n¿Hola?\\nOprima cero.\\n¿Hola?\\nDebiste haber tocado timbre,\\nBrendan. Vamos.\\nOye, tú. Sí, tú, ¿qué haces?\\nHallamos este camión\\na la vera del camino.\\nQuizá tenga problemas\\nde transmisión. Revísenlo.\\n¿Qué ocurre?\\nOye, es el camión.\\n¿El que robaron en Newark?\\n¿Qué haces con el camión, imbécil?\\nEs un regalo de Tony Soprano.\\nLlamemos a la policía.\\nSon los tipos que mataron a Héctor.\\nNo lo creo. Acabamos de devolver\\nel mayor golpe de mi vida.\\nEscucha, desgraciado.\\nTío Junior le ha roto la paciencia\\na Tony porque tú robaste ese camión.\\nTienes suerte de que Tony\\nno te meta el taxi en el trasero.\\n¿Qué más dijo Comley?\\nNo mucho.\\nDijo que faltaban algunas cosas\\ndel camión...\\n...pero que no le importaba en tanto\\nse lo devolviéramos.\\nDijo que le agradeciéramos a Tony,\\ny que si necesitaba algo, lo llamara.\\n¿Tony?\\nEsos malditos adictos trabajan para\\nTony, roban el camión de Carmine...\\n...yo lo recupero, ¿y el viejo Comley\\nse le agradece a Tony?\\nCreo que debiste...\\n...haberte encargado\\nde lo de Christopher Moltisanti...\\n...ni bien ocurrió la primera vez.\\nDebiste enviar una señal clara\\nSi jodes con Junior Soprano\\nCálmate, no haremos\\nuna película del oeste.\\nMaldita familia.\\nLe compré a su hijo una tabla de surf\\nde dolares 400 para el cumpleaños.\\n¿señor Soprano?\\n¿Cómo está?\\n¿Qué es eso?\\n¿Un cuadro con truco?\\n¿Cuál?\\nEl granero.\\nY el viejo árbol, podrido\\npor dentro.\\nEs sólo un cuadro que compré...\\n...según recuerdo\\nen una galería de Provincetown.\\nEs un cuadro psicológico\\nhecho especialmente...\\n...como esa prueba... ¿cómo se llama?\\nKorshack.\\n¿Cree que quiero engañarlo?\\nNo.\\n¿Qué le dice ese cuadro?\\nDice, Oye, imbécil.\\nSomos de Harvard.\\n¿Qué te parecen este granero\\naterrador y deprimente...\\n...y este árbol podrido?\\n¿Es aterrador\\ny deprimente para usted?\\nPara mí no.\\nPero tiene todo eso adentro.\\n¿Cómo van las cosas?\\nBien.\\nTuve una semana muy buena.\\nUn amigo mío está\\nen el hospital.\\nEso nunca es agradable,\\npero de lo contrario, una buena semana.\\n¿Por qué lo tratan?\\nPrimero creyeron que era una úlcera.\\nLuego esto y aquello.\\n¿Y le preocupa?\\n¿Jackie?\\nJackie es tan malo\\nque va a asustar al cáncer.\\nSu amigo tiene cáncer.\\ndoctor Stevens, marque 107.\\nOye, Jackie,\\ncuando te conectan...\\n...¿te aseguras de que no haya aire\\nen las venas o crees que sean tonterías?\\n¿A qué te refieres?\\nEs un buen hospital, cariño.\\nAquí no ocurre nada por el estilo.\\nEl aire en la sonda te matará.\\n¿Sabes quién más\\nOye.\\n¿Sabes quién más tiene cáncer?\\nTommy Di Palma.\\nPero es mucho peor que el tuyo.\\nLe está consumiendo el cerebro.\\n¿Alguien va a tener un bebé?\\nHola.\\n¿Cómo estás?\\n¿Qué tal?\\n¿Cómo te sientes?\\nBien. Bien.\\nHola, Hesh, gusto en verte.\\nGracias por venir.\\nJackie, te ves bien, amigo.\\nHola, gracias.\\nToma, Ro.\\nJackie.\\nEres hermosa. Hermosa.\\nEs una sorpresa.\\nMike, gusto en verte de nuevo\\nvestido de hombre.\\nCreo que debería agarrar\\nun matafuegos.\\nUn amigo tuyo tuvo combustión\\nespontánea en su restaurante.\\nIré a la cafetería.\\n¿Quieres algo?\\nSí, un plato de braciole.\\nTe ves bien. ¿Te pusieron grapa?\\nOjalá.\\nNos vemos luego, tengo cosas\\nque hacer, Jackie.\\nDale cariños a Junior.\\nLo haré.\\nDile a mi tío que devolví\\nel maldito camión...\\n...y que me dé el frasco de pimientos\\nen vinagre que me debe.\\nClaro.\\nGracias a Dios que se fue.\\nEs buen tipo,\\npero es como la Parca.\\nEs como si conociera\\na todos los que tienen cáncer...\\n...y se muriera por contarte.\\nSabes, Jackie, quizá seas buen candidato\\npara las pruebas clínicas.\\nEstas... terapias\\nde células paradas...\\nPaulie, ¿no oíste? No quiere oír\\nhablar más de cáncer.\\nFuera de aquí.\\nCréeme, tienes suerte\\nde ser judío.\\n¿Ves con lo que debo lidiar?\\nJudíos. Sí, así es...\\n...sabía que había algo.\\n¿Conoces a un tal Teittleman?\\nTiene propiedades,\\ny un hotel calle abajo del club.\\nEl judío de ropa negra,\\ncon rizos y todo eso.\\nSe llaman hasídicos.\\nHasídicos, pero no les creo.\\n¿Qué quiere el tal Teittleman?\\nUn divorcio para su hija.\\n¿De qué hablas?\\nEl yerno de Teittleman no le da\\nel consentimiento a su mujer...\\n...a menos que Teittleman le dé\\nel 50 porciento de su motel.\\nLo llaman el pago.\\n¿Por qué no...?\\nEs tabú para su religión.\\n¿Tú sabes de esto?\\nDe correr, ¿sí? Créeme, no quieres\\nhacer negocios con ellos.\\nDijo que hay 25 mil si podemos\\nconseguirle este pago.\\nHay un viejo dicho\\nentre los judíos\\nCuando un judío se divorcia,\\nhasta el altar llora.\\nMuy bien, ya oí suficiente.\\nMiren, me estoy cansando.\\nVayamos por un café.\\nTe veremos luego, Jackie.\\nBuenas noches, Jackie.\\nSí.\\nEl choque que oyeron fue\\nMeadow Soprano adelantándose a su pie.\\nseñorita Marris, estamos exhaustas\\npor estudiar para los SATs.\\nEstuvimos estudiando\\nhasta pasadas las 2:00 anoche.\\n¿Eres su abogada?\\nNo.\\n¿Por qué programaron los SATs\\nen la misma semana que el recital\\nEl mismo día.\\n¿Qué?\\nNos echan del coro...\\n...y allá va nuestra mejor\\nactividad extracurricular.\\nAdiós, Berkeley.\\nHola, Glassboro State.\\nNo puedo esperar\\na que todo el país...\\n...esté entre Tony, Carmela y yo.\\nNueva Jersey apesta.\\nDeseo tanto ir a Berkeley.\\nYa no me aguanto el este.\\nEntonces no dormimos\\nhasta después de los SATs.\\nNo mires el lío,\\nno esperaba compañía.\\nNo podía ver. Debía ver la nueva casa.\\n¿Dónde está el rey Arturo?\\nAbajo, porque la plomería...\\n¿Aquí?\\nSí.\\nMe encanta lo acogedor.\\nBienvenidos al barrio.\\nBueno, al distrito escolar.\\nCarm, no tenías que hacerlo.\\nDigo, no nos vemos tanto\\ncomo solíamos y...\\nQuiero que eso cambie.\\n¿Este es Artie Bucco?\\nHola, capitán.\\nLa casa se ve bien.\\nNecesita trabajo, pero ya llegaremos.\\nSi necesitas efectivo hasta que llegue\\nel dinero del seguro del restaurante...\\nEl seguro.\\nTendremos un presidente italiano\\nantes de que vea dinero del seguro.\\nCreí que estaba arreglado.\\nÚnete al club.\\nNos están investigando de nuevo\\npor incendio intencional.\\n¿Te creen mafioso? Eres honesto.\\nNo tiene sentido.\\n¿Quién incendiaría un restaurante\\nperfectamente bueno?\\nEs estúpido.\\nUna locura.\\nLo siento, Artie.\\nLa vida sigue, ¿no?\\nSiempre podría ser plomero, ¿no?\\nSólo hay que dominar\\nun concepto.\\nLa mierda rueda cuesta abajo.\\nAsí es.\\nEntra la cocina,\\nte compraré una cerveza.\\nseñor Soprano.\\nseñor Teittleman.\\nEs un placer.\\nPor favor, tome asiento.\\nGracias.\\nYa conoce a Silvio.\\nPaulie.\\nPaulie, ¿cómo está usted?\\nEste es mi hijo.\\n¿Tiene nombre o necesita uno?\\nLo siento, este es Hillel.\\n¿Sabe la historia\\nde mi hija y su marido?\\nSí, la sabe.\\n¿Tiene una hija, señor Soprano?\\nSí.\\nLlámeme Tony.\\n¿Qué haría si su hija fuera\\nabusada por su marido?\\nHablaría con él.\\nSí, a martillazos.\\nCreo que entiende mi ira.\\nNo sólo lastima a mi hija...\\n...sino que se burla\\nde nuestras leyes de matrimonio.\\nMire, vamos a entendernos\\ndesde el principio, ¿sí?\\nYo trabajo con cartón y manejo\\nde desperdicios.\\nSólo estoy aquí como amigo de Silvio,\\nigual que usted\\nQuizá usted tenga un problema familiar\\ncon el que puedo ayudarlo...\\n...y si puedo hacerlo,\\nme hará feliz.\\n¿Cuál es tu maldito problema, viejo?\\nCállate.\\nSiempre mantén\\nuna apariencia de unidad.\\nDeja tu crítica...\\n...para cuando\\nregreses a casa.\\nPor favor, concluya.\\nQuieren sacarle 50 porciento de su motel.\\nCorrecto.\\n¿Y las pandillas de rabinos...\\n...que golpeaban a los maridos\\npara conseguir el divorcio?\\nFueron retirados por la fiscalía.\\nMuy bien, 25 porciento . El quiere el 50,\\nnosotros recibimos el 25.\\nNo entiendo.\\nPorque no hablo contigo.\\nEstás creando un golem...\\n...un monstruo\\npara hacer tu trabajo sucio.\\nComo el rabino en el cuento.\\nEl te destruirá.\\nSi usted me consigue lo que quiero,\\nseñor Soprano, trato hecho.\\nHecho.\\nSi los metes a nuestro motel,\\nnunca los sacarás.\\nEs un comercial, ¿no?\\nJulio, antes de almorzar quiero\\nque hagas inventario de sábanas.\\nMedia hora, y nada\\nde cervezas, por favor.\\nSí, ¿puedo ayudarlos?\\nEso depende. ¿Eres Ariel?\\nTambién depende.\\n¿Es un cobrador?\\n¿Qué es esto, las Catskill?\\nMira a Shecky Greene.\\nQueremos hablarle de su suegro.\\nLo siento, no está.\\nLo sabemos...\\n...pero queremos hablarle\\nde él y de usted...\\n...de él... y de este problemita\\nque están teniendo.\\nMire, no sé quiénes son ustedes...\\n...pero cualquier problema\\nque pueda o no tener...\\n...con mi familia no les compete.\\nEntonces váyanse, ¿sí?\\nMira, Shlomo es amigo mío.\\n¿Y se jacta de ello?\\nEste tipo...\\nEscuchen, escuchen.\\nUds. no podrían\\nentender lo que pasa.\\nShlomo es un controlador\\narrogante e ignorante.\\nMiren, lo conozco desde antes\\nde tener vello en mi petzel.\\nYo hice este lugar.\\nLos volantes, la entrega de autos de\\nalquiler, los desayunos de negocios...\\n...fui yo, no él.\\nSudé sangre en este lugar,\\nme la debe...\\n...y es mi intención conseguir\\nlo que es mío.\\nEntonces, por favor,\\nno se avergüencen más.\\nSólo váyanse.\\nYo no estoy avergonzado.\\n¿Y tú?\\nEscúchame, maldito chiflado.\\nLe darás a Shlomo\\nlo que él quiera...\\n...y te olvidarás de esta mierda\\ndel 50 por ciento.\\nNo recibirás nada.\\n¿Me entiendes? Nada.\\nMuérase.\\nBupkes.\\nDi bupkes, Paulie.\\n¿Qué?\\nEs como ellos dicen nada.\\nAl carajo con eso. Yo digo nada\\nde este modo.\\n¿Qué te parece eso como nada?\\n¿Sabes qué?\\nProbablemente no.\\n¿El beneficio para\\nel hospital pediátrico?\\nContrataré a Artie y a Charmaine\\npara la comida.\\nVamos, este beneficio.\\n¿Desde cuándo le abrimos la casa\\na los desconocidos?\\nTienes razón, mudémonos\\nde nuevo a Italia.\\nViviremos en un pueblito en la colina,\\ncomo nuestros ancestros...\\n...con un gran muro alrededor...\\n...y le arrojaremos aceite hirviendo\\na todos los viajeros que lleguen a él.\\nVamos.\\nPobre Charmaine.\\nTraté de hallar buenas cosas\\nque decir sobre esa casa.\\nNo estaba tan mal, sólo necesita\\nun poco de trabajo, es todo.\\nEsos dos no tienen un centavo.\\nEse incendio.\\nSi la aseguradora se moviera...\\n¿Crees que fuera intencional?\\n¿Qué pasa contigo?\\nOye.\\nNo puedo creer que no consiguieran\\nsuficiente para nosotros.\\nSí, pásame a Matt.\\nEspera.\\n¿Qué pasa aquí?\\n¿Tratan de arruinarse los tímpanos?\\nEstamos estudiando.\\nSon exámenes de práctica,\\ny son brutales.\\n¿Tus padres saben que estás aquí\\na esta hora?\\nSí. No les importa.\\nSe quedará a dormir.\\n¿Puede quedarse\\na dormir Hunter?\\nEmpiecen a dormir, entonces.\\nSe acabó la hora de estudio.\\nAún nos quedan\\nseis capítulos más.\\n¿Entonces pueden bajar\\nlos decibeles, por favor?\\nPor mi esposo.\\nMatt, en serio.\\nSi no conseguimos metanfetaminas,\\nestamos muertas.\\nBueno, con este presupuesto podemos\\nusar tres mozos para los canapés...\\n...y dos para la champaña.\\nEs un alivio tan grande\\nque nos ayudes.\\nToda esta fiesta me vuelve loca.\\nEl hospital pediátrico\\nes una causa tan valiosa.\\nOona.\\nHay huellas digitales\\npor todos lados.\\nQuiero que este lugar\\nesté reluciente.\\nGeneralmente es muy buena.\\nEs de Polonia.\\nPor favor suba al auto, señor.\\nVamos.\\nComo si el policía\\nllamara señor al tipo...\\n...si no estuvieran las cámaras.\\nDe todos modos lo vi.\\n¿Por qué no llamas a Tony...\\n...para que llame a Junior\\na ver si podemos cambiarlo?\\nAtiende, ¿sí, nena?\\nClaro, porque soy la única\\nque tiene que ir a trabajar.\\nSí, anfitriona de restaurante.\\nEs un trabajo muy duro.\\nEs tu primita.\\nHola, Adriana.\\nHola, ¿cómo estás?\\n¿Qué hacen aquí?\\nHola a ti también.\\nY Hunter, ¿qué haces?\\nNo le prestes atención,\\ntiene el cerebro frito.\\n¿Quieren algo de beber?\\n¿Qué tal una cerveza?\\nSí, claro.\\nBromeaba.\\nTe acepto una Coca, si tienes.\\n¿Qué quieres, Meadow?\\nCreo que quiere algo de mí.\\nEn tus sueños, Brendan.\\nEntonces, si no quieres nada,\\n¿qué quieres?\\nQuiero comprar.\\nAquí tienes.\\n¿Cómo comprar?\\nConseguir. Queremos\\nconseguir metanfetaminas.\\n¿Sí? ¿Tienes dinero?\\nCállate. No les darás un carajo.\\n¿Por qué no?\\nPor empezar, tu padre me matará.\\n¿Desde cuándo usas eso?\\nElla no la usa. Yo la necesito\\npara estudiar para los exámenes.\\nSí, claro.\\nHunter la necesita.\\nOlvídalo, de ningún modo.\\n¿Qué?\\nSólo busca atención, Hunter.\\nBien, sólo pensé en preguntarte\\nantes de ir a la avenida Jefferson.\\nEsos cretinos te robarán, violarán\\ny te dejarán a la vera del camino.\\nNo sé qué le ves.\\nDinero, ¿qué crees?\\nMuérete.\\nNos vemos, Christopher.\\nTengo mi propio dinero.\\n¿Y yo?\\n¿Nadie se despedirá de mí?\\nAdiós.\\nAdiós.\\nAdiós, chicos.\\nNo puedes dejarla ir\\na la avenida Jefferson. Le venderán Ajax.\\nNo va a ir, sólo trata de hacer\\nque le dé metanfetaminas.\\n¿No es mejor que se la des tú,\\ncon todo el veneno que anda por ahí?\\nAdolescentes.\\nUno cree poder protegerlos,\\npero no puede.\\nAl acercarse\\nla temporada de lluvias...\\n...los chimpancés alterarán\\nsus hábitos alimentarios.\\n¿Otra vez mirando esa mierda?\\nHola.\\n¿Qué haces aquí tan tarde?\\nMi hijo pisó un clavo...\\n...tuve que darle una vacuna.\\n¿Dónde está?\\nEn el cuarto de emergencias\\ncon Carmela.\\n¿Y qué pasó con el judío\\ndel motel?\\nHablamos con él, y no respondió,\\nasí que vamos a volver.\\n¿Quieres que me vaya?\\nNo hay problema,\\nsólo busco mi lapicera.\\nCreo que te equivocaste de cuarto,\\nporque no eres mi enfermera.\\nLo sé, pero hice la cama.\\nNo, cariño, no he salido\\nde esta cama en todo el día.\\nLo siento, sólo necesito controlar\\nsus signos vitales.\\n¿Qué haces?\\nEso parece funcionar bien.\\nMira estas flores. Nadie envía ramos\\nasí como los de Nueva York.\\nDéjeme revisar su...\\n...esta... esta maldita...\\n...esta maldita sonda.\\nMaldición... listo.\\nParece que tengo\\nun problema.\\n¿Le molesta si me llevo\\nuna de sus batas?\\nEstá bien, es una fiesta privada.\\nGracias, gracias.\\nQue tenga buenas noches.\\nTe atrapé, cretino.\\nDebiste verte la cara,\\ndebiste verla.\\nCretino.\\nNo salí de la cama en todo el día.\\nMírate la cara.\\n¿Quién diablos es ella?\\nCálmese, señor Aprile.\\nEs hora de su baño\\nde esponja.\\nEs una amiga mía del club.\\nBuena chica.\\nLos acompañé luego,\\nbebimos un poco.\\nFue bueno de tu parte\\ntener una fiesta para tu amigo.\\nSí.\\nLa facultad de medicina Tufts.\\nUsted es médica, ¿qué cree?\\nRespecto a Jackie.\\nTendría que saber más\\nde su condición.\\nYa le dije su condición.\\nTiene cáncer.\\n¿Qué tipo de cáncer?\\nEn el intestino.\\nHabía un tumor y se lo quitaron.\\nY volvió.\\n¿Pero dijo que podría irse a casa,\\nque no lo operarán?\\nEstá junto a algo vital.\\nYa veo.\\nYa ve.\\nPor lo que dice, no suena bien.\\nPor lo que le digo.\\n¿Qué carajo sé yo? No soy médico.\\nEstá enojado. ¿Con quién?\\nDéjeme decirle algo.\\nEste hombre recibió quimioterapia\\na diario durante tres semanas...\\n...y aún tiene todo su cabello.\\nTodo su cabello,\\ny tiene mucho cabello.\\nEntonces no me diga cómo suena,\\nporque usted no lo conoce, ni a mí...\\n...y no sabe de qué carajo habla.\\nNos acercamos a que enfrente...\\n...lo que realmente siente\\nsobre la situación.\\nEspere un momento, acabo de decirle\\nmis verdaderos sentimientos.\\nDígame usted qué pasa realmente.\\nEl árbol en la pintura.\\nDijo que estaba podrido por dentro.\\nNo hay nada en el cuadro\\nque lo indique.\\nEl maldito cuadro...\\nsabía que era una maldita estafa.\\n¿Recuerda su sueño?\\n¿El de los patos?\\nTomó otro significado.\\n¿Qué le pasa a un árbol\\npodrido por dentro?\\nArboles, patos. ¿Quién carajo es usted,\\nel guardabosques Rick?\\nVaya un trabajo que tienen\\nustedes los psiquiatras.\\nCreen que todos les mienten\\ncuando Uds. los engañan.\\nMuérase.\\nHay 37 definitivos.\\nTenemos otros 13 quizá...\\n...más el comité\\ndel hospital pediátrico.\\nClaro. ¿Seguro que encargamos\\nsuficiente champaña?\\nBien.\\nJean dice que no deben estar muy sobrios\\npara la subasta silenciosa.\\nSi alguien se entera\\nque te la di yo...\\nSí.\\nMírame.\\nEsto no es broma.\\nNo siempre nos llevamos bien,\\npero no creo que me quieras muerto.\\nDebo llamar a Hunter. Eres el mejor.\\nOye, en serio.\\nSólo por esta vez, ¿sí?\\nNo soy traficante.\\nNo quiero verte envenenada.\\nSi tu padre llegara a enterarse\\nDios, ¿qué nadie llama\\na la puerta?\\nMira, dile a Brendan que Hunter\\npreferiría morir que salir con él.\\n¿Brendan?\\nNo dejes que ese imbécil\\nse le acerque. ¿Me entiendes?\\nEl me pidió un favor, y lo hice.\\nEntregaste el mensaje.\\nAhora deja estudiar a Meadow.\\nDos cretinos\\ndel viejo barrio.\\n¿Qué, creen que habrá\\nun ala Soprano en el nuevo hospital...\\n...con el vidrio antibalas y...?\\nSólo estás celosa de su dinero.\\n¿Yo?\\nSí.\\nBien, pero explícame esto\\nEl hombre nos ofrece dos pasajes\\nal Caribe por amistad a mí...\\n...y no los aceptas porque están\\ncontaminados, pero para una fiesta...\\n...está bien aceptar su dinero\\npara limpiar sus baños.\\nEn primer lugar, Arthur, éste es\\nun trabajo pago y no un crucero.\\n¿Y por qué siempre tienes\\nque exagerar?\\nNo limpias sus baños,\\neres un chef.\\nBien. Entonces no te molesta...\\n...que me dé dinero para el nuevo\\nrestaurante, como me ofreció.\\nMira esa cara.\\nDios, Arthur, no me digas...\\n...que aceptaste dinero\\nde Tony Soprano.\\n¿Cuál es la diferencia?\\n¿Cuál?\\nSoy chef, necesito dónde cocinar.\\n¿Cómo?\\nLe doy mi apoyo a Carmela, así.\\nY es para una causa muy buena.\\nPero tenerlo de socio...\\n...créeme, Artie, sería una locura.\\nSería el fin de todo.\\nAl menos, él hizo el gesto.\\nDime a otra persona que nos ofrezca\\nalgo, aparte de los Soprano.\\n¿Te fijas en lo que haces?\\nEstás estrujando la codorniz.\\n¿Crees que debemos poner\\nel aire acondicionado?\\nEstá andando bien,\\n¿no piensas?\\n¿Te gusta la comida?\\nNi la probé con todo lo que hablé.\\nNo te pierdas las tonatas de ternera.\\nCharmaine.\\nEn el auto no, por favor. No.\\nCállate.\\nSuéltenme, hijos de...\\nCállate.\\nMétete al maldito auto. Súbete.\\nNo.\\nMaldito miserable...\\nNo puedo acostumbrarme a tener\\na estos desconocidos en mi casa.\\n¿Por qué los invitaste?\\nPrueba uno de éstos.\\nEres un cocinero increíble, Artie.\\nCuando cocino así...\\n...me recuerda a lo que perdí.\\nEl que me arrancaran\\nel restaurante...\\n...no puedo explicarlo.\\nFue como perder un brazo.\\nA veces me acuesto en la noche\\nBueno, suficiente.\\n¿Por qué no olvidas el pasado?\\nMira al futuro.\\nEstoy harto de oír\\nde tu maldito restaurante.\\nCállate, cretino deprimente.\\n¿Qué diablos sabes de ello?\\nNo...\\nHijo de puta.\\nMaldito cretino.\\nVamos. Dímelo.\\n¿Ves lo que consigues?\\nMaldito hijo de perra.\\nLevántate, maldito obstinado.\\nPor favor.\\nEs demasiado tarde para rogar,\\nmaldito estúpido.\\n¿Todo porque no quieres divorciarte?\\nNo es tan simple.\\n¿Por qué no? Si firmas tu nombre\\nen un pedazo de papel.\\nusted no me cae bien.\\n¿Sí? Bueno, tú tampoco. ¿Qué tal?\\n¿Puedes creer a este cretino?\\n¿Qué consigo?\\n¿Trabajas por nada?\\nNo lo creo.\\nYo digo que le hagamos comer\\nel sombrero.\\nElla quiere ir a Israel,\\ny la envío.\\nQuiere hacerse algo en el cuerpo,\\ny lo pago.\\nLa alimento, la visto, le pongo\\nun techo sobre la cabeza.\\nAdemás de eso, trabajo 20 años\\npara su padre y me aguanto su abuso.\\n¿Debo irme sin un centavo?\\nSuficiente. Párate.\\nNo nos importa.\\nPues qué puta suerte.\\nDesgraciado.\\nSilvio.\\nHijo de puta.\\nEste tipo es un toro.\\nPaulie, si no lo matamos...\\n...deberíamos ponerlo\\na trabajar.\\nPerdemos el tiempo.\\nTenía suerte de poder\\nescaparme con esa fiesta.\\nCarajo.\\nHola.\\nTony, lamento molestarte allí.\\nEsto no funciona\\ncomo esperábamos...\\n...con el amigo\\nde patillas cómicas.\\nNo digas más por teléfono...\\nVoy para allá.\\nCarajo.\\nDebo irme.\\nAcabas de llegar.\\nLo sé, pero debo irme.\\n¿Qué significa\\npara ti esa pintura?\\nNada, me recuerda\\na David Hockey.\\n¿Quieres algo de comer?\\n¿Qué, bromeas?\\nLa mayoría de los tipos que conozco\\nse alegrarían de eliminar a su esposa.\\nTraté de explicarle la realidad.\\nEste tipo es más terco\\nque una mula.\\nDice que es por principio.\\nCreo que debemos...\\nya sabes.\\nPor eso te llamamos.\\nLe prometí al suegro\\nque no lo haría.\\nNo sabía qué más hacer.\\nEres un hijo de puta estúpido,\\n¿lo sabes?\\nOí que lo dijeron.\\n¿Qué, te enorgulleces?\\nSi me matas, una nube negra...\\n...se posará\\nsobre la casa de Shlomo.\\nComo sea, no habrá precio\\nhasta que se haga la restitución.\\nRealmente me dejarías matarte,\\nmaldito enfermo, ¿no?\\n¿Ha oído hablar de Masada?\\nDurante dos años...\\n...900 judíos\\nofrecieron resistencia...\\n...contra 15.000 soldados romanos.\\nEscogieron la muerte\\nantes que la esclavitusted\\n¿Y dónde están\\nlos romanos ahora?\\nLos estás mirando, imbécil.\\nAunque pase\\npor oscuras quebradas...\\n...no temo ningún mal,\\nporque tú estás conmigo.\\nSí, sigue pensando en eso.\\n¿Sí?\\nHesh.\\nEstoy con mi amigo que no come\\nmariscos y estoy agotado.\\nEste tipo no entiende razones.\\n¿No te lo dije? ¿No te dije\\nque no te acercaras a los fanáticos?\\nNo me deja opción. Está dispuesto\\na hundirse con el barco.\\nTengo una idea.\\nQuizá esté dispuesto a ir\\nal otro mundo...\\n...pero si está atascado en la tierra...\\n...sé de algo que ningún hombre\\nquiere perder en la vida.\\n¿Qué?\\nEs una idea brillante.\\nHacerlo eunuco, ¿eh?\\nTerminarle el bris.\\nSí.\\nPaulie, saca el alicate\\ndel baúl.\\nAriel, iremos al plan B.\\nEl teléfono no dejó de sonar\\nen toda la mañana.\\nLos Rotelli, los Trillo... él se ocupa\\nde algo en computadoras.\\nSon una pareja maravillosa,\\nella nos invitó a un brunch.\\n¿En serio?\\nSí.\\nPero fue la comida, Mainie.\\nTodo el mundo la alabó.\\nCynthia Ricci dijo, Me encantaron\\nlas bolitas de arroz.\\nComo si nunca\\nhubiera comido arancini.\\nNo podría haberlo logrado sin ti.\\nSignificó tanto para mí\\nque estuvieras aquí.\\nLo hizo tan divertido.\\nMainie, ¿ocurre algo?\\n¿Te preocupa algo?\\n¿Qué podría ocurrir?\\nEscucha, cariño.\\nSé que ahora no lo parece,\\npero Uds. van a recuperarse. Lo verás.\\nCarmela,\\nestoy bien donde estoy.\\nLo sé, no me refería a eso, yo\\nCarmela, nunca quise\\ndecirte esto.\\nOcurrió hace tanto tiempo.\\nTony y tú no estaban casados.\\nProbablemente\\nes tonto decirlo ahora.\\n¿Qué?\\nEstabas en la playa\\ncon tus padres ese verano...\\n...Tony y tú habían peleado.\\nEl me llamó.\\n¿Sí?\\nUna cosa llevó a la otra,\\ncomenzamos a salir...\\nCarmela, dormí con él.\\n¿Dormiste con... con Tony?\\nEn serio, no era para mí.\\nCarmela, lo que trato de decir es...\\n...deja de preocuparte por mí.\\nEn serio. Ambas hicimos\\nnuestras elecciones.\\nYo estoy bien con las mías.\\nMe gustaría que lo consideraras.\\nMe disgustas. No me digas eso.\\n¿Por qué me llamaste?\\nEste fulano trata de jodernos, Tony.\\nOye, ZZ Top. El tipo te pagó\\nel precio, ¿no?\\nPero no por su causa.\\nusted lo amenazó con castrarlo...\\n...pero fue el negocio\\nlo que lo convenció.\\nEl quería el 50 porciento , usted el 25,\\nasí que partí la diferencia.\\nLe di el 15 porciento , él le concede\\nel divorcio a mi hija y...\\nEs un negocio. Funcionó.\\nCamina conmigo, Shmolo.\\nSí.\\nEscuche, no se preocupe.\\nMe ocupé muy bien\\nde usted Tome.\\n¿Qué es eso?\\nPor sus considerables problemas.\\nComo dice el Talmud\\nMe importa un carajo lo que diga.\\nAhora escúchame.\\n¿Quiere darle a su yerno el 15 porciento\\ndel motel? Adelante.\\nSale de su parte.\\nNosotros le conseguimos su precio,\\ny usted nos da el 25 porciento . ¿Entendido?\\nMi hijo tenía razón.\\n¿Sí?\\nusted es lodo, arcilla atea...\\nYo creé un golem viviente.\\n¿Qué carajo es un golem?\\nUn monstruo.\\nFrankenstein.\\nFuera de aquí.\\nAntes de que le meta\\na ese hijo imbécil suyo en el culo.\\nCállese.\\nHola.\\nHola, ¿cómo estás?\\nUn segundo.\\nTengo buenas noticias.\\nEstamos en el negocio hotelero.\\n¿Qué te parece?\\nLee esto.\\n39 grados.\\nQuizá deban tomar mi temperatura\\ncon la otra máquina.\\nPaulie cree haberse fracturado\\nla mano con la cabeza del tipo.\\nLa digital.\\nAmenazábamos con cortarle la verga.\\nDebería llamar a la enfermera.\\nMurmuraba y rezaba, y yo trataba\\nde sacarle los pantalones...\\nCreo que deberían volver\\na tomarme la temperatura.\\nSí, sí, llámalos.\\nPobre Jackie.\\nDios tiene sus razones.\\nLivia, se veía el doble\\nde viejo que yo.\\n¿Qué tienes realmente en mente,\\nCorrado?\\nEl tal Christopher Moltisanti.\\nChristopher.\\n¿Qué pasa con él?\\nEl y su amiguito...\\n...me están abofeteando...\\n...y se ocultan detrás de Tony.\\nTony siempre quiso\\na Christopher como un hijo...\\n...y yo también, Junior.\\nEl me puso la protección\\nen las ventanas una vez.\\nBien.\\n¿Pero qué hago?\\n¿Dejar que él y el chico Filone\\nme orinen encima en público?\\n¿Y cuán lejos llego...\\n...antes de pelearme seriamente\\ncon ese hijo tuyo de tan mal carácter?\\nQuizá a Christopher\\nle vendría bien una conversación.\\nYa sabes.\\nCon el otro, Filone...\\n...no lo sé.\\nTienes mucho sentido común\\npara ser vieja.\\nSoy una idiota balbuceante.\\nPor eso mi hijo\\nme puso en un geriátrico.\\nNi siquiera le importó\\nque estuviera allí.\\nEran sólo él\\ny ese maldito cáncer.\\nEs como si ya se hubiera ido.\\nSí.\\nAlguien me llamó\\nFrankenstein hoy.\\n¿En serio?\\nEste hasídico\\ncon el que hago negocios.\\nEstos hasídicos son extremos...\\n...pero tienen sus creencias, sabe.\\nNo le temen a la muerte.\\nAl menos este tipo no le temía.\\nQuizá tengan la creencia\\nporque tienen miedo.\\nYo no le temo a la muerte.\\nNo si es...\\n...por algo.\\nYa sabe, una guerra, algo así.\\nUna razón.\\nPero Jackie...\\n...ver a este...\\n...a este hermoso hombre fuerte...\\n...volverse una nada.\\nY no puede hacer nada\\nal respecto.\\nY uno...\\n...no puede evitarlo.\\n¿Envidia a los hasídicos\\ny a sus creencias?\\n¿Toda esta mierda es por nada?\\nY si toda esta mierda es por nada,\\n¿por qué debo hablar de ello?\\nEse es el misterio, ¿no?\\nEl misterio de Dios,\\no como quiera llamarlo...\\n...de por qué se nos da\\nel don cuestionable...\\n...de saber que moriremos.\\n¿Se siente como Frankenstein?\\n¿Como una cosa...\\n...a la que le falta humanidad...\\n...y sentimientos humanos?\\nGracias, es para ti.\\nSalúdame a Freddy, ¿sí?\\nDesgraciado...\\nSuéltenme, suéltenme.\\nEscuche, son amigos de Tony, ¿no?\\nEscuchen, Meadow quería\\nlas metanfetaminas.\\nSi no se la daba, ella habría ido\\na la avenida Jefferson.\\nDíganle a Tony que la habrían golpeado.\\nLa habrían violado.\\nNo quiero morir.\\nNo quise hacerlo.\\nLo siento.\\nEscúchenme,\\ntrataba de salvarla.\\nEscúchenme.\\n¿Hablan inglés?\\nNo.\\nNo me disparen. No disparen.\\nCarajo.\\n¿Va a decir algo o qué?\\nEs su tiempo.\\n¿Qué hace él aquí?\\nUn amigo mío acaba\\nde pasar.\\nHeshie. Tiene cita a las 3:00.\\nSí.\\nSí, cariño.\\nSí.\\n¿Qué diablos pasa?\\nTormentas.\\n¿Jackie?\\n¿Hueles eso?\\nEs la lluvia.\\nDra. Melfi,\\n¿qué diablos me hace?\\nVuelve a dormir.\\n¿Qué haces levantado?\\nMañana tienes clase.\\nTrabajo en un puntaje alto.\\n¿Tu madre se acostó?\\nSí, ¿dónde estabas?\\nSí. Un compactador murió\\nen Sanidad Barone.\\nMuévete.\\n¿Listo?\\nSí.\\nVe. Cuidado con los fantasmas.\\nEsto no timonea bien.\\nSí, te estoy matando.\\n¿Y cómo va todo contigo?\\n¿Qué tal la escuela?\\nPapá, tienes que concentrarte.\\nNuevo juego.\\nOye, no es justo.\\nSe llama desventaja.\\nVamos. Basta, basta.\\nAhora te mato yo.\\nCon una mano. Mira eso.\\nNo puedo ver.\\nQuítate. Basta.\\nVamos.\\nPerdiste.\\nConcéntrate a través\\nde las distracciones.\\nEsa es tu lección. Te quiero\\nen la cama en 10 minutos.\\nAndretti, ¿me escuchas?\\nBuenas noches, papá.\\nBuenas noches.\\ndoctor Nathan, regrese al área cinco\\nde emergencias.\\n¿Dónde estacionaste?\\nEn el estacionamiento.\\nNadie me siguió.\\nAdriana, no te darías cuenta.\\nSí, porque Tony Soprano se oculta\\nen el asiento trasero. Estás paranoico.\\nTrae el auto aquí.\\nYa sé. Está disfrazado.\\nEse podría ser él. Oye, Tony.\\nO quizá está en el basurero.\\nSal, sal de donde quiera\\nque estés.\\nSuéltame.\\nPodría ser cualquiera\\nen cualquier momento.\\nNi sé si Tony me busca.\\nChristopher, le diste\\nmetanfetaminas a su hija.\\nY no estoy seguro de que lo sepa.\\nMira mi muñeca. Está toda roja.\\nLo siento. Lo siento.\\nPero me arrastraron\\na Meadowlands...\\n...del cuello\\npara una ejecución falsa.\\n¿Qué?\\n¿Qué?\\nNada.\\nNo. ¿Qué?\\nNo quieres saber, ¿sí? Créeme.\\nNo. ¿Qué?\\nLa enfermera dijo\\nque te hiciste encima.\\n¿Es verdad?\\nTrae el auto, por favor. ¿Podemos ir\\na lo de Brendan por drogas...\\n...y averiguar qué carajo pasa,\\npor favor?\\nBrendan, vamos.\\nDespierta.\\nEl tonto deja su puerta abierta.\\nDebo mear.\\nAdelante.\\nOye, Einstein, debiste haberme visto\\nen el hospital.\\nSe necesitaron tres enfermeras\\npara sostenerme\\nSí. Sí.\\nEse es el mensaje.\\nGracias.\\nAsí se hace, Anth.\\nAquí en cinco,\\ncuatro, tres, dos.\\nOye, oye, míralo.\\n¿Crees que esto es cómico?\\n¿Qué? ¿Qué es cómico?\\nSí, no hice nada.\\nSi me llamas una vez,\\nlo lamentarás.\\nNo sé de qué hablas.\\nTu madre apesta.\\nVaya un mensaje original.\\nSí, quizá lo haga. ¿No, Anth?\\nSí.\\n¿Sí? ¿Y por qué te comiste todas\\nlas donas que nos mandó al campamento?\\nY solías llorar sobre su hombro.\\nExtraño tanto la casa, señora Piocosta.\\n¿Por qué no te callas?\\nToma otra dona,\\ngordo pedorrero.\\nAnda, mátalo.\\nSí.\\nSí.\\nImbécil.\\nAsno.\\nOigan, sepárense.\\nSepárense.\\nQuiero un período de calma\\nde cinco minutos ya mismo.\\nLo veo la semana próxima, doc.\\nseñor Dante, se olvidó algo.\\nGracias, querida.\\nNo olvide usar el hilo dental.\\nMe salvaste la vida.\\nDe acuerdo.\\nMuy bien, lo veo la semana próxima.\\n¿Puedo ayudarlo, señor?\\n¿Señor? ¿Señor?\\nDios mío.\\nTengo dudas.\\n¿Sobre qué?\\nTodo esto, este arreglo.\\nLa seguridad.\\nVengo aquí. Le cuento cosas.\\nNo sé cuán seguro es.\\nEntiendo sus preocupaciones...\\n...pero ya le dije las reglas básicas.\\nEn cuanto no oiga nada incriminatorio\\nNo lo entiende.\\nEl sólo estar aquí me incrimina.\\nSi alguien me ve, hablará.\\nY de pronto soy una celebridad.\\nCreí que habíamos progresado\\ncon su narcisismo.\\n¿Quién es usted?\\n¿Por qué es tan importante\\npara usted saberlo?\\nMi madre me enseñó a nunca responder\\na una pregunta con otra.\\nEntonces su madre\\nsí le enseñó algo.\\nSi le pregunto sobre su vida,\\ncon quién habla, en quién confía...\\nDebería tomar la quinta enmienda.\\nQué bonito.\\nYo...\\nLo siento, no me di cuenta\\nde lo que... decía.\\nLo... siento.\\n¿Qué haces aquí?\\nChris me envió a recogerte.\\n¿Chris? ¿Por qué? ¿Qué pasó?\\nDebe ser mi papá, ¿no?\\n¿Por qué más te enviaría Chris?\\n¿Brendan recibió mi poema?\\nProbablemente no sea nada,\\notra orden de registro.\\nEl los llama el Bureu Federal\\nde Mierda Irritante.\\nSe lo contaste a tu padre, ¿no?\\nMe asustaste. ¿Qué pasó?\\nEstos somos Adriana y yo mudándonos\\na Florida porque alguien no se calló.\\n¿De qué hablas?\\nEn serio, ¿Brendan habló de mí?\\nSácanos de aquí.\\nSácanos.\\n¿Qué le dijiste a tu viejo?\\n¿De las drogas? ¿Estás loco?\\nMe hubiera pegado.\\n¿No entiendes? Esto es serio.\\nSuéltame.\\nEscucha...\\nTerminen con esto.\\nEstá preocupado por ti.\\nEstuvo preguntando\\ndónde estabas, imbécil.\\nLamento haberte lastimado.\\nOdio mi vida, ser Soprano.\\nOye.\\nJamás digas que odias la vida.\\nEs una blasfemia.\\nMuérete.\\nBien, vamos.\\n¿Recuerdas cuando eras niña?\\nTe compraré una cajita feliz,\\n¿de acuerdo?\\n¿Dónde carajo estás?\\nEsta es una camisa nueva.\\nTe la compró tu abuela,\\n¿y la hallo en la basura?\\nEs una Westport.\\nYa ni siquiera es popular.\\n¿Qué dijiste?\\nMe peleé.\\nEspero que valiera la pena.\\nEspero que le hicieras lo mismo\\na su ropa. ¿Con quién peleaste?\\nNo me atraparon.\\nNo hay deméritos.\\nAnthony, ¿con quién?\\nCon Jeremy.\\n¿Jeremy Piocosta?\\nEstuvieron juntos en campamento,\\nlos creí amigos.\\nPues si esa es toda la información\\nque me das, llamaré a la señora Piocosta.\\nNo, ma, espera.\\nMa, no llames.\\nJuro que Uds. aprenderán\\nel valor del dólar.\\nLavaré tu auto.\\nNunca te esfuerzas.\\nLo haré. Lo prometo.\\nLo haré muy bien.\\nNo llames.\\nConseguiré el dinero.\\ndolares 40, Anthony.\\nLo sé, lo sé.\\n¿Cómo estás?\\n¿Qué te trae por aquí?\\n¿Recuerdas esa panadería,\\nFerraras?\\nTe traje besos de coco.\\nSon demasiado dulces.\\n¿De qué hablas?\\nSon tus favoritos.\\nLa directora\\nde actividades, Rosie...\\n...dice que están organizando\\nun viaje a la ciudad.\\nCena y teatro.\\nY tú no quieres ir.\\nNo me gusta la gente de aquí.\\nNo la conoces.\\nY esa ciudad. Hombres grandes\\nque se hacen encima.\\nYa no es así, ma.\\nEse Giuliani.\\nQuizá deberíamos atenernos\\na la excursión.\\nMadres que arrojan a sus bebés\\npor las ventanas de los rascacielos.\\nSiempre con los bebés\\npor las ventanas.\\nNo te veo tratando de interactuar\\ncon las otras mujeres...\\n...o hablando con los buenos señores\\nque veo pasar.\\nNo aprovechas tus oportunidades.\\n¿Qué te importa?\\nOjos que no ven,\\ncorazón que no siente.\\nNosotros no creemos eso,\\nni Carm, ni yo ni los niños.\\nOjalá el Señor me llevara ahora.\\nVengo para alegrarme.\\n¿Crees que fue un error?\\n¿Estás siendo sarcástico?\\nNo puedes achacarme\\ntodos tus problemas.\\nEs la comunidad de retiro\\nmás cara de Nueva Jersey.\\nPodrías ser feliz aquí si quisieras,\\npero dejas que se vaya todo a la mierda.\\nQué hermoso lenguaje\\npara tu madre.\\n¿Quieres los besos de coco?\\nNo me importa.\\nDeja algunos\\npara los lunáticos.\\nAdiós, ma.\\nDicen que quizá llueva hoy.\\nNo te preocupes,\\nmanejaré con cuidado.\\n¿Qué diablos haces?\\nEsto está a una hora de mi oficina.\\n¿Una hora?\\n¿Qué eres, mujer? Hazte un transplante\\nde vejiga. Mi madre vive aquí.\\nNo es muy conveniente para mí.\\n¿No es conveniente?\\nLo siento.\\n¿Por qué no nos vemos\\nen su comisaría?\\nAl gobierno le encantarían\\nnuestras fotos juntos.\\n¿Qué tiene para mí?\\nToma.\\nDra. Jennifer Melfi.\\nSí. Sus orígenes, rutina diaria.\\n¿Y su relación personal\\ncon ella es?\\nNada que te interese.\\nNo puede culpar a un hombre\\npor intentarlo.\\n¿Estás aburrido de tu vida?\\nSí, claro.\\nArrestar a putas y a adictos.\\nAdemás, es divertidísimo mantener\\na dos ex ganando dolares 40.000 al año.\\nNo quiero que la toquen,\\nni que la molesten.\\nSólo quiero saber quién,\\ncuándo y por qué. Es todo.\\n¿Los honorarios habituales?\\nLos Knicks perdieron, teniente.\\nMe debes 2.000.\\nNo me cobre el interés.\\nVeremos qué tipo de trabajo hace.\\nBien, lo veré en unos días.\\n¿Qué tiene en la caja?\\nBesos de coco.\\nEsto es espantoso.\\nNo puedo aguantarlo.\\n¿Qué tipo de Dios?\\nChristopher.\\n¿Dónde has estado?\\n¿Qué te pasó?\\n¿Qué te pasó?\\nBrendan está muerto.\\n¿De qué hablas?\\nEl pescado está en mi bolsillo.\\nEl cerebro de Brendan flota en la tina.\\nUn mensaje por el ojo.\\nEl especial de Mo Green.\\nMaldito tío Junior.\\n¿De qué hablas? ¿Mo Green?\\nEn El Padrino, los ojos de Mo Green\\nveían más de lo que le correspondía...\\n...y le metieron una bala\\nde bajo calibre en el ojo.\\nMikey Palmice hace sus asesinatos.\\nDirás en los lentes.\\nLentes, ojos.\\n¿Por qué discutes conmigo?\\nEstoy en el World Trade Center.\\n¿Qué haces?\\nMikey Palmice es miembro.\\nEl chupavergas no tuvo las agallas...\\n...para hacerlo él mismo. Contrató\\na unos rusos y mató a mi amigo.\\nNuestra respuesta debería ir\\ncon el mensaje.\\nA través de la boca significa\\nque el tipo era una rata.\\nEl ojo fue el encuadre que Francis\\nle dio a la toma, por el shock.\\nBrendan no se merecía esto.\\nNo trates de convencerme de otra cosa.\\nNo puedes tocar a Mikey.\\nTu maldito tío se burla de ti.\\n¿Qué esperas que haga?\\nYa me ocupo. Sé dónde queda la casa\\nde Mikey en la ruta 10.\\nNo. Si trata de irse,\\nle rompes el otro cuello.\\nEnfermera Bradley,\\nla necesitan en emergencias.\\nHola, señor GQ.\\nHola.\\nTengo entrada.\\nSí.\\n¿Cómo estás, Mikey?\\n¿Qué tal...?\\nHijo de...\\nMira.\\nSe te arrugó el traje.\\nDéjame arreglártelo.\\n¿Por qué gritas?\\nSon alteraciones gratuitas.\\nseñor Elegante.\\nTe lo debía.\\n¿Oyeron el chiste\\ndel Padrino chino?\\nLes hizo una oferta\\nque no pudieron entender.\\n¿Vas a parar antes de que esto\\nse vaya de las manos?\\n¿Ni siquiera saludas?\\nVine porque te quiero\\ny te respeto.\\nNo finjas que me das\\ntus respetos.\\nUn hijo que arroja\\na su madre a un asilo.\\nVive como pobre en ese lugar.\\nEso no es asunto tuyo.\\nTus amigos interfieren en mis asuntos.\\nEsperan que dé la otra mejilla.\\nSe te restituyó\\npor lo del camión.\\nSoy un monumento a la paciencia,\\nesperando que haya disciplina.\\nLos chicos recibieron su advertencia\\ne igual me avergonzaron.\\nYo dirijo a mi gente a mi modo.\\nLo que hiciste fue extremo.\\n¿Y ahora eres mi jefe?\\nYo respondo a gente\\nmás importante que tú, amigo.\\n¿Como Jackie?\\n¿Quieres llevar este asunto\\na su lecho de muerte?\\nEse sobrino tuyo al que le dimos\\nterapia colónica...\\n...¿es buen trabajador?\\nViene ascendiendo.\\nMuy bien.\\nAhora trabaja para mí.\\nDiscúlpame.\\nQuizá ahora tú tengas\\nlas palpitaciones.\\nQué pelotas tienes, ¿lo sabías?\\nPor supuesto que no.\\nTe muestro mi mano\\ny me la apartas.\\n¿Qué pasa contigo?\\n¿Ya no podemos hablar\\ncomo adultos?\\nFuera.\\nCuando vuelvas, ven armado\\no no vengas para nada.\\nNo lo dices en serio.\\nY para cuando puedo tomar\\nel examen de sargento...\\n...congelaron los salarios.\\n¿Por qué seguimos a esta gente?\\nCenaron, fueron al cine, ¿y qué?\\nPor suerte para ti pararon\\nen ese negocio de empaques.\\nSí, compré jugo.\\nSí, puedo oler las papas.\\nEscucha, imbécil. Un auto\\nde la misma marca y modelo...\\n...dejó la escena de un homicidio triple\\nen Long Island.\\nPonte las pilas.\\n¿Y lo dejaste tras una semana?\\nLo sé, Uds. me dan pena.\\nEs nuestra culpa que Uds.\\nno sepan cómo actuar.\\nAdmisión de errores.\\nLes decimos que sean más sensibles,\\ny se unen a los Promise Keepers.\\nLes decimos que se pongan\\nen contacto con sus sentimientos...\\n...y se van al bosque\\ncon taparrabos...\\n...grasa de oso\\ny tocan el tambor.\\nOye, no arruines mi velada.\\nTú me entiendes.\\nClaro. Quieres a alguien que sea\\nsensible a tus necesidades...\\n...pero igualmente decisivo...\\n...para los manoseos ocasionales\\nen el closet.\\nSí, algo así.\\nCarajo, justo lo que necesitaba.\\n¿Pasamos el límite de velocidad?\\nNo prestaba atención.\\nPara.\\nLicencia y registro, por favor.\\nLo siento, oficial.\\n¿Hice algo mal?\\nDetective.\\nCruzó una doble línea.\\n¿Ha bebido, señor?\\nTomamos vino con la cena.\\nBájese del auto, por favor.\\nNo lo creo.\\nCálmate, Randall, y haz\\nlo que él dice, ¿de acuerdo?\\nNecesito que camine en línea recta,\\nde talón a punta.\\nMire, lo felicito por la vigilancia...\\n...pero esto es innecesario.\\n¿De acuerdo? Soy abogado.\\nSé que estoy bajo el límite.\\nAbra la cajuela, por favor.\\n¿Qué?\\n¿Quiere revisar\\nmi bolsa de golf?\\nÁbrala.\\nNo lo haré.\\n¿Ha oído hablar\\nde causa probable?\\nSí, buenos términos legales...\\n¿Qué?\\n¿Se resiste al arresto?\\nOiga.\\nVin, ¿quieres calmarte?\\nNo puede hacer eso.\\nRegrese al auto.\\nEl no hizo nada malo.\\nSeñora.\\nVuelva al auto, ahora.\\nVamos, andando.\\nPercibí que estaba armado.\\n¿Qué diablos te pasa, Vin?\\nLlévatelo. Conducir ebrio,\\nresistencia al arresto...\\n...ataque a un oficial. Hazlo ya.\\n¿Qué\\nQue lo hagas.\\nDios.\\nNo me toque.\\nTienes buena carne en casa.\\nNo salgas por hamburguesas.\\n¿Qué? ¿De qué habla?\\nRandall, Randall, te seguiré.\\nLlamaré a mi abogado.\\nMuéranse.\\nElla sale con Randall Curtin,\\nabogado de impuestos.\\nEl vive en...\\nRennsalaer Road 1242...\\n...es divorciado, con dos niños.\\nTiene tipo de club campestre,\\ny podría agregar no muy valiente.\\n¿Y ella?\\nElla, la buena doctora,\\nllega a su oficina a las 8:00de la mañana...\\n...y se va a las 6:00.\\nPide sándwiches de atún\\ny Coca diet.\\nTiene un apartamento\\nde tres cuartos en Essex Falls...\\n...compra en Pathmark.\\nEs divorciada, con un hijo de 19 años.\\nAparte del cretino, no sale mucho,\\npero ve a un psiquiatra.\\n¿Que qué?\\nSí.\\nVe a un psiquiatra semanalmente.\\nSe llama Elliot Kupferburg.\\nEstoy jodido.\\nPues por lo que yo sé,\\nella no jode a nadie.\\nNo es porque\\nno tenga lo necesario.\\nDejó las persianas abiertas. Tengo fotos\\ndignas de Victorias Secret...\\n...si le interesan.\\n¿Un poco de esto?\\n¿Con esto alcanza?\\nSí.\\n¿Tiene Advil?\\n¿Qué soy, farmacia?\\n¿Qué tienes en el partido del viernes?\\nTengo 300 para Rutgers.\\nEso solucionará\\ntodos tus problemas.\\nGracias.\\n¿Con una engrapadora?\\nSupe que Mikey tuvo que tirar\\nese bonito traje.\\n¿Sí?\\nSe había apegado mucho a él.\\nMichael Palmice fue una enfermedad\\ndesde los cinco años. Se lo buscó.\\nPero no simplifica las cosas.\\nMi tío es un tipo obstinado.\\n¿Lo suficiente como para ir\\na la guerra?\\n¿Qué término es ése?\\nNo hubo guerra\\ndesde lo de Columbo.\\nLo decidimos todos.\\nNadie quiere pelear\\nen esta época.\\nYo tengo una gran bolsa de arena\\nen casa. Al carajo.\\nSi Jackie no se hubiera enfermado,\\nnada de esto habría ocurrido.\\nCuando tienes razón,\\ntienes razón.\\nUno de los capitanes\\ndebe asumir el cargo.\\nLa falta de control en la cima\\nestá jodiendo a la familia.\\nEs verdad.\\nPuedes repetirlo.\\nSi el viejo estuviera aquí en vez\\nde en la celda de Springfield...\\n...diría Raymond, es tu momento.\\nCuidado con el arma, ¿sí?\\n¿Qué?\\nEres el muchacho maravilla. Jackie\\ny él te escogieron desde el comienzo.\\nTienes la edad, la antigüedad.\\nTambién tengo un hijo de 18 años\\ncon EM, ¿de acuerdo?\\nLe dije a Nucci\\nque haría menos, no más.\\nCon el debido respeto a tu hijo tullido,\\nno quieres un micrófono encima.\\nNo quieres el dolor de cabeza.\\nPor eso deberías ser tú el jefe.\\nEres tan inteligente.\\nY es discapacitado.\\nPor supuesto.\\n¿Por qué no lo arreglamos\\ncomo con un consejo?\\nLarry, los viejos armaron esto...\\n...como una organización paramilitar.\\nNecesitamos un comandante supremo\\nen la cima, no un director de música.\\nEnfréntalo.\\nJunior y tú deberán pelear.\\nTienes que ser el jefe.\\nYo lo quiero.\\nTiene el apoyo de Nueva York.\\nNo es por nada,\\nDios bendiga a tu tío...\\n...pero vive en el siglo equivocado...\\n...y Nueva York lo sabe.\\n¿Lo quieres, T?\\nConsigue su aprobación.\\nEs lo correcto, es inevitable.\\nNo quiero disturbios.\\nHola, ¿qué pasa?\\nNada.\\nApuesto a que le dijiste\\na tu mamá lo que pasó.\\n¿Estás drogado?\\nPues me debes 40 mangos\\npor la camisa. Le arrancaste el cuello.\\nTodavía me debes\\nlo del 4 de Julio.\\n¿Por las cañitas voladoras?\\nLas pagué.\\nNo, por los petardos, ¿recuerdas?\\nLos que usaste para volar ranas.\\nSí, estuvo genial.\\nSí.\\nEscucha,\\nsólo dame el dinero.\\nTe hice un favor con esa camisa gay.\\nLo harás.\\nOblígame, gordito.\\nCretino.\\nImbécil.\\nEstúpido.\\nPerra... vamos.\\nVamos, estúpido.\\nSuéltame.\\n¿Por qué? ¿Para que vuelva a pegarte?\\nTe estaba dando un escarmiento.\\nNadie ganó, fue un empate.\\nEn el foso, mañana a las 3:00.\\nTienes que ayudarme con esta peste.\\nMe matan el maíz.\\nEsto azul funciona muy bien\\ny es seguro para el medioambiente.\\nLo probé. ¿Tienes DDT?\\nEs ilegal y lo prohibieron.\\nQuizá tengas extra atrás.\\nPodrías ir a ver. Nos vemos allá.\\nMire, señor Soprano,\\nsi pudiera hacer algo, lo haría\\nEl señor Piocosta, ¿no?\\n¿Cómo está?\\n¿Recuerda que nuestros hijos\\nfueron al campamento Aheka juntos?\\nClaro, Tony, ¿cómo está?\\nBien, bien.\\n¿Su hijo sigue jugando\\ntan bien al baloncesto?\\nSí, supongo que sí.\\nEso le conseguirá una beca.\\n¿Cómo está Anthony?\\nCiclotímico, ¿sabe?\\nPara un chico de su edad, claro.\\nGusto en verlo, Tony.\\n¿Por qué no nos reunimos\\ny asamos algo para los chicos?\\nTony, yo...\\n...ni siquiera sé si siguen\\nsiendo buenos amigos.\\n¿Anthony le mencionó algo?\\nHaré que Carmela llame a Joanie,\\ny nos reuniremos.\\nLinda.\\nLinda.\\nGenial, Tony, genial.\\nNos vemos.\\n¿Tony?\\nSí.\\nDios mío.\\nCreí que la medicación te ayudaría\\ncon los ataques de pánico.\\nLo hace. Es el primero\\nen mucho tiempo.\\n¿Qué dice tu terapeuta?\\nDebería aumentarte la dosis.\\nTiene más títulos que un noble.\\nNo te preocupes, yo lo arreglaré.\\n¿Tu terapeuta hace preguntas\\nsobre nuestro matrimonio?\\nSé que te cuesta hablar\\nde sentimientos personales.\\nHablar. Sólo eso hacemos.\\nCarmela, voy a dejarlo.\\n¿Se lo mencionaste?\\nSí.\\nLo sabe. Supongo.\\nCarajo, me olvidé de tomar\\nel Prozac esta mañana.\\nEstá en el baño.\\n¿Puedes traérmelo?\\nSé que con Jackie enfermo,\\nestás bajo una tremenda presión...\\n...pero creo que si la terapia\\nno te perjudica, no te ayudaría.\\nNo, no entiendes.\\nPor eso estás en terapia,\\nporque no entiendo.\\nTe digo, Tony, si abandonas ahora,\\ntendré que reevaluar las cosas.\\n¿Qué quieres decir?\\nTengo un trabajo muy sensible,\\nno soy un tipo común.\\n¿Debo explicártelo?\\nEs nuestro matrimonio, Tony.\\nLa terapia es demasiada exposición.\\nEstá bien.\\nEntonces vive\\ncon los resultados.\\n¿Me amenazas?\\nNo, Tony, te doy\\nuna excelente crítica.\\nBúscate tus malditas píldoras.\\n¿Cuánto duró el ataque?\\nUnos 30 segundos.\\nEstaba mareado, sin aliento...\\n...pero nada más.\\nNo perdí el conocimiento.\\n¿Algo más desde entonces?\\nLe prescribiré Xanax,\\nsólo por un par de días.\\nLe ayudará a sobrellevar\\nlas tensiones del corto plazo.\\nMi tío me puso en una posición...\\n...donde debo hacer\\nalgo que no quiero.\\nY luego está mi madre.\\nPago 4.000 al m'"
      ]
     },
     "execution_count": 75,
     "metadata": {},
     "output_type": "execute_result"
    }
   ],
   "source": [
    "import nltk, re, string, collections\n",
    "from nltk.util import ngrams \n",
    "\n",
    "# Capitulo 1\n",
    "with open(\"./Corpus/Sopranos/The Sopranos-1x1.txt\", \"r\", encoding='UTF-8') as file:\n",
    "    text1 = file.read()\n",
    "    \n",
    "#Capitulo 2\n",
    "with open(\"./Corpus/Sopranos/The Sopranos-1x2.txt\", \"r\", encoding='UTF-8') as file:\n",
    "    text2 = file.read()\n",
    "\n",
    "#Capitulo 3\n",
    "with open(\"./Corpus/Sopranos/The Sopranos-1x3.txt\", \"r\", encoding='UTF-8') as file:\n",
    "    text3 = file.read()\n",
    "    \n",
    "#capitulo 4\n",
    "with open(\"./Corpus/Sopranos/The Sopranos-1x4.txt\", \"r\", encoding='UTF-8') as file:\n",
    "    text4 = file.read()\n",
    "    \n",
    "\n",
    "\n",
    "text = text1 + text2 + text3 + text4\n",
    "\n",
    "text[0:100000]"
   ]
  },
  {
   "cell_type": "code",
   "execution_count": 76,
   "id": "72be33d4",
   "metadata": {},
   "outputs": [],
   "source": [
    "tokenized = text.split() \n",
    "esBigrams = ngrams(tokenized, 2)"
   ]
  },
  {
   "cell_type": "code",
   "execution_count": 77,
   "id": "40ed198c",
   "metadata": {},
   "outputs": [
    {
     "data": {
      "text/plain": [
       "[(('en', 'la'), 49),\n",
       " (('lo', 'que'), 47),\n",
       " (('en', 'el'), 41),\n",
       " (('a', 'la'), 40),\n",
       " (('que', 'no'), 37),\n",
       " (('de', 'la'), 35),\n",
       " (('¿Por', 'qué'), 30),\n",
       " (('que', 'me'), 22),\n",
       " (('a', 'mi'), 20),\n",
       " (('No', 'lo'), 19)]"
      ]
     },
     "execution_count": 77,
     "metadata": {},
     "output_type": "execute_result"
    }
   ],
   "source": [
    "esBigramFreq = collections.Counter(esBigrams)\n",
    "esBigramFreq.most_common(10)"
   ]
  },
  {
   "cell_type": "code",
   "execution_count": 78,
   "id": "2a42868f",
   "metadata": {},
   "outputs": [],
   "source": [
    "tokenized = text.split()\n",
    "esTrigrams = ngrams(tokenized, 3)"
   ]
  },
  {
   "cell_type": "code",
   "execution_count": 79,
   "id": "b200f0e8",
   "metadata": {},
   "outputs": [
    {
     "data": {
      "text/plain": [
       "[(('¿Por', 'qué', 'no'), 10),\n",
       " (('No', 'lo', 'sé.'), 8),\n",
       " (('¿De', 'qué', 'hablas?'), 7),\n",
       " (('que', 'no', 'puedo'), 6),\n",
       " (('de', 'lo', 'que'), 5),\n",
       " (('Ese', 'es', 'el'), 4),\n",
       " (('que', 'no', 'lo'), 4),\n",
       " (('¿A', 'qué', 'te'), 4),\n",
       " (('qué', 'te', 'refieres?'), 4),\n",
       " (('de', 'Tony', 'Soprano.'), 4)]"
      ]
     },
     "execution_count": 79,
     "metadata": {},
     "output_type": "execute_result"
    }
   ],
   "source": [
    "esTrigramFreq = collections.Counter(esTrigrams)\n",
    "esTrigramFreq.most_common(10)"
   ]
  },
  {
   "cell_type": "markdown",
   "id": "be2b5b12",
   "metadata": {},
   "source": [
    "# Carlos Andres Mendoza Martinez T00055203"
   ]
  },
  {
   "cell_type": "code",
   "execution_count": null,
   "id": "0c37eca6",
   "metadata": {},
   "outputs": [],
   "source": []
  }
 ],
 "metadata": {
  "kernelspec": {
   "display_name": "Python 3 (ipykernel)",
   "language": "python",
   "name": "python3"
  },
  "language_info": {
   "codemirror_mode": {
    "name": "ipython",
    "version": 3
   },
   "file_extension": ".py",
   "mimetype": "text/x-python",
   "name": "python",
   "nbconvert_exporter": "python",
   "pygments_lexer": "ipython3",
   "version": "3.9.7"
  }
 },
 "nbformat": 4,
 "nbformat_minor": 5
}
